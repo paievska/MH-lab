{
 "cells": [
  {
   "cell_type": "markdown",
   "id": "66672417-dedd-4f69-a244-7277eb6db8d3",
   "metadata": {},
   "source": [
    "## ПРАКТИЧНА РОБОТА 2"
   ]
  },
  {
   "cell_type": "markdown",
   "id": "b966c342-cd05-45d8-9449-ac315904d6c3",
   "metadata": {},
   "source": [
    "### Варіант 15"
   ]
  },
  {
   "cell_type": "code",
   "execution_count": 1,
   "id": "e1bcebef-5c82-44fe-bf50-1da27d934764",
   "metadata": {},
   "outputs": [],
   "source": [
    "import pandas as pd \n",
    "\n",
    "import numpy as np \n",
    "\n",
    "import matplotlib.pyplot as plt"
   ]
  },
  {
   "cell_type": "markdown",
   "id": "0e0dd25d-9c47-4743-86c4-fd5522cada33",
   "metadata": {},
   "source": [
    "Завдання 1: Зчитайте дані з таблиці \"Середньорічна щомісячна зарплата в Україні за 1992—2022 роки\" з Вікіпедії за посиланням  та виконайте наступні завдання: Виведіть перші 5 рядків таблиці. "
   ]
  },
  {
   "cell_type": "code",
   "execution_count": 2,
   "id": "7a43fdd0-d25e-47c7-8f95-833bc5fd1585",
   "metadata": {},
   "outputs": [
    {
     "name": "stdout",
     "output_type": "stream",
     "text": [
      "    Рік В національній валюті В доларах США  \\\n",
      "0  1992              5832,88▲        28,04▼   \n",
      "1  1993               163533▲        36,03▲   \n",
      "2  1994              1426343▲        44,99▲   \n",
      "3  1995              7304000▲        49,53▲   \n",
      "4  1996               125,23▼        68,45▲   \n",
      "\n",
      "  Кількість кг хліба[20] на середню зарплату  \\\n",
      "0                                   1015,67▲   \n",
      "1                                    430,42▼   \n",
      "2                                    372,76▼   \n",
      "3                                    201,76▼   \n",
      "4                                    198,62▼   \n",
      "\n",
      "  Кількість БігМаків на середню зарплату  \n",
      "0                                      —  \n",
      "1                                      —  \n",
      "2                                      —  \n",
      "3                                      —  \n",
      "4                                      —  \n"
     ]
    }
   ],
   "source": [
    "url = \"https://uk.wikipedia.org/wiki/%D0%A1%D0%B5%D1%80%D0%B5%D0%B4%D0%BD%D1%8F_%D0%B7%D0%B0%D1%80%D0%BE%D0%B1%D1%96%D1%82%D0%BD%D0%B0_%D0%BF%D0%BB%D0%B0%D1%82%D0%B0_%D0%B2_%D0%A3%D0%BA%D1%80%D0%B0%D1%97%D0%BD%D1%96\" \n",
    "\n",
    "data = pd.read_html(url, header=0)[2] \n",
    "\n",
    "df_1 = data.head(5) \n",
    "\n",
    "\n",
    "print(df_1) "
   ]
  },
  {
   "cell_type": "markdown",
   "id": "f3199633-9935-4154-a7bf-57b6c8f52a40",
   "metadata": {},
   "source": [
    "Завдання 2: Визначте кількість рядків і стовпчиків за допомогою атрибуту shape "
   ]
  },
  {
   "cell_type": "code",
   "execution_count": 3,
   "id": "b4fd2407-1467-43ea-9dce-71b2b17edc93",
   "metadata": {},
   "outputs": [
    {
     "name": "stdout",
     "output_type": "stream",
     "text": [
      "Кількість рядків: 32, Кількість стобчиків: 5\n"
     ]
    }
   ],
   "source": [
    "num_rows, num_columns = data.shape\n",
    "print(f\"Кількість рядків: {num_rows}, Кількість стобчиків: {num_columns}\")"
   ]
  },
  {
   "cell_type": "markdown",
   "id": "79cad535-3690-48fe-ab45-83072982efed",
   "metadata": {},
   "source": [
    "Завдання 3: Визначте загальну кількість років та кількість місяців у даних. "
   ]
  },
  {
   "cell_type": "code",
   "execution_count": 4,
   "id": "dd6eb1c9-bd31-466b-8e16-979960d91741",
   "metadata": {},
   "outputs": [
    {
     "name": "stdout",
     "output_type": "stream",
     "text": [
      "Загальна кількість років  31\n",
      "Загальна кількість місяців  372\n"
     ]
    }
   ],
   "source": [
    "num_years = len(data['Рік']) - 1\n",
    "num_months = num_years * 12\n",
    "print(\"Загальна кількість років \", num_years)\n",
    "print(\"Загальна кількість місяців \", num_months)"
   ]
  },
  {
   "cell_type": "markdown",
   "id": "4ef742fb-858f-400d-ac87-ba117f517dc9",
   "metadata": {},
   "source": [
    "Завдання 4: Замінити пропущені значення  «-» в таблиці на NaN "
   ]
  },
  {
   "cell_type": "code",
   "execution_count": 5,
   "id": "67a69703-dba8-489c-aa4d-e2290762823d",
   "metadata": {},
   "outputs": [
    {
     "name": "stdout",
     "output_type": "stream",
     "text": [
      "      Рік В національній валюті В доларах США  \\\n",
      "0    1992              5832,88▲        28,04▼   \n",
      "1    1993               163533▲        36,03▲   \n",
      "2    1994              1426343▲        44,99▲   \n",
      "3    1995              7304000▲        49,53▲   \n",
      "4    1996               125,23▼        68,45▲   \n",
      "5    1997               143,09▲        76,86▲   \n",
      "6    1998               152,83▲        62,39▼   \n",
      "7    1999               177,39▲        42,95▼   \n",
      "8    2000               231,04▲        42,47▼   \n",
      "9    2001               311,62▲        58,01▲   \n",
      "10   2002               375,98▲        70,59▲   \n",
      "11   2003               462,58▲        86,74▲   \n",
      "12   2004               590,53▲       111,02▲   \n",
      "13   2005               806,14▲       157,30▲   \n",
      "14   2006              1042,88▲       206,51▲   \n",
      "15   2007              1352,75▲       267,87▲   \n",
      "16   2008              1808,92▲       343,43▲   \n",
      "17   2009              1909,25▲       245,05▼   \n",
      "18   2010              2246,75▲       283,12▲   \n",
      "19   2011              2639,17▲       331,24▲   \n",
      "20   2012              3031,92▲       379,42▲   \n",
      "21   2013              3273,82▲       409,59▲   \n",
      "22   2014              3474,75▲       292,32▼   \n",
      "23   2015              4207,33▲       162,60▼   \n",
      "24   2016              5187,33▲       203,02▲   \n",
      "25   2017              7105,42▲       267,16▲   \n",
      "26   2018              8867,33▲       325,99▲   \n",
      "27   2019             10503,75▲       406,40▲   \n",
      "28   2020             11596,60▲       430,21▲   \n",
      "29   2021             14017,80▲       514,41▲   \n",
      "30  2022*             13376,21▼       380,00▼   \n",
      "31  2023*             12954,12▼       327,70▼   \n",
      "\n",
      "   Кількість кг хліба[20] на середню зарплату  \\\n",
      "0                                    1015,67▲   \n",
      "1                                     430,42▼   \n",
      "2                                     372,76▼   \n",
      "3                                     201,76▼   \n",
      "4                                     198,62▼   \n",
      "5                                     211,13▲   \n",
      "6                                     177,69▼   \n",
      "7                                     180,68▲   \n",
      "8                                     117,51▼   \n",
      "9                                     153,57▲   \n",
      "10                                    213,84▲   \n",
      "11                                    276,27▲   \n",
      "12                                    276,06▼   \n",
      "13                                    332,05▲   \n",
      "14                                    441,28▲   \n",
      "15                                    498,66▲   \n",
      "16                                    585,00▲   \n",
      "17                                    497,02▼   \n",
      "18                                    527,82▲   \n",
      "19                                    564,37▲   \n",
      "20                                    585,38▲   \n",
      "21                                    625,00▲   \n",
      "22                                    642,39▲   \n",
      "23                                    517,22▼   \n",
      "24                                    441,05▼   \n",
      "25                                    450,35▲   \n",
      "26                                    497,05▲   \n",
      "27                                    528,09▲   \n",
      "28                                    549,08▲   \n",
      "29                                    560,03▲   \n",
      "30                                    409,57▼   \n",
      "31                                    367,85▼   \n",
      "\n",
      "   Кількість БігМаків на середню зарплату  \n",
      "0                                     NaN  \n",
      "1                                     NaN  \n",
      "2                                     NaN  \n",
      "3                                     NaN  \n",
      "4                                     NaN  \n",
      "5                                  20[21]  \n",
      "6                                    н.д.  \n",
      "7                                 24▲[22]  \n",
      "8                                    н.д.  \n",
      "9                                 50▲[23]  \n",
      "10                                   н.д.  \n",
      "11                                   н.д.  \n",
      "12                                    81▲  \n",
      "13                                   111▲  \n",
      "14                                   123▲  \n",
      "15                                   146▲  \n",
      "16                                   164▲  \n",
      "17                                   136▼  \n",
      "18                                   155▲  \n",
      "19                                   160▲  \n",
      "20                                   202▲  \n",
      "21                                   172▼  \n",
      "22                                   182▲  \n",
      "23                                   124▼  \n",
      "24                                   133▲  \n",
      "25                                   161▲  \n",
      "26                                   177▲  \n",
      "27                                   184▲  \n",
      "28                                   187▲  \n",
      "29                                   216▲  \n",
      "30                                   132▼  \n",
      "31                                   123▼  \n"
     ]
    }
   ],
   "source": [
    "data_clean = data.replace(to_replace = \"—\", value = np.NaN)\n",
    "print(data_clean)"
   ]
  },
  {
   "cell_type": "markdown",
   "id": "4d9fa7f6-4d0f-4dd8-8e8b-68d83116f0df",
   "metadata": {},
   "source": [
    "Завдання 5: Визначити тип стовпців за допомогою dtypes. "
   ]
  },
  {
   "cell_type": "code",
   "execution_count": 6,
   "id": "495d48af-2aa3-46cf-afd6-f259949fa249",
   "metadata": {},
   "outputs": [
    {
     "name": "stdout",
     "output_type": "stream",
     "text": [
      "Рік                                           object\n",
      "В національній валюті                         object\n",
      "В доларах США                                 object\n",
      "Кількість кг хліба[20] на середню зарплату    object\n",
      "Кількість БігМаків на середню зарплату        object\n",
      "dtype: object\n"
     ]
    }
   ],
   "source": [
    "print(data_clean.dtypes)"
   ]
  },
  {
   "cell_type": "markdown",
   "id": "e9bcf15b-d8c8-439e-aaed-1deb460cb6a2",
   "metadata": {},
   "source": [
    "Завдання 6: Видаліть передостанній і останній стовпчики ( Кількість кгхліба[20] на середнюзарплату,  Кільксть БігМаків на середню зарплату). Далі працюйте з оновленою таблицею.  "
   ]
  },
  {
   "cell_type": "code",
   "execution_count": 7,
   "id": "8b93bf2c-7731-4e6a-aa7d-77374560ccb4",
   "metadata": {},
   "outputs": [
    {
     "name": "stdout",
     "output_type": "stream",
     "text": [
      "      Рік В національній валюті В доларах США\n",
      "0    1992              5832,88▲        28,04▼\n",
      "1    1993               163533▲        36,03▲\n",
      "2    1994              1426343▲        44,99▲\n",
      "3    1995              7304000▲        49,53▲\n",
      "4    1996               125,23▼        68,45▲\n",
      "5    1997               143,09▲        76,86▲\n",
      "6    1998               152,83▲        62,39▼\n",
      "7    1999               177,39▲        42,95▼\n",
      "8    2000               231,04▲        42,47▼\n",
      "9    2001               311,62▲        58,01▲\n",
      "10   2002               375,98▲        70,59▲\n",
      "11   2003               462,58▲        86,74▲\n",
      "12   2004               590,53▲       111,02▲\n",
      "13   2005               806,14▲       157,30▲\n",
      "14   2006              1042,88▲       206,51▲\n",
      "15   2007              1352,75▲       267,87▲\n",
      "16   2008              1808,92▲       343,43▲\n",
      "17   2009              1909,25▲       245,05▼\n",
      "18   2010              2246,75▲       283,12▲\n",
      "19   2011              2639,17▲       331,24▲\n",
      "20   2012              3031,92▲       379,42▲\n",
      "21   2013              3273,82▲       409,59▲\n",
      "22   2014              3474,75▲       292,32▼\n",
      "23   2015              4207,33▲       162,60▼\n",
      "24   2016              5187,33▲       203,02▲\n",
      "25   2017              7105,42▲       267,16▲\n",
      "26   2018              8867,33▲       325,99▲\n",
      "27   2019             10503,75▲       406,40▲\n",
      "28   2020             11596,60▲       430,21▲\n",
      "29   2021             14017,80▲       514,41▲\n",
      "30  2022*             13376,21▼       380,00▼\n",
      "31  2023*             12954,12▼       327,70▼\n"
     ]
    }
   ],
   "source": [
    "data_clean.drop(columns = \"Кількість БігМаків на середню зарплату\", inplace = True)\n",
    "\n",
    "data_clean.drop(columns = \"Кількість кг хліба[20] на середню зарплату\", inplace = True)\n",
    "print(data_clean)"
   ]
  },
  {
   "cell_type": "markdown",
   "id": "52165af0-0a44-4d68-ac83-98ff7923ac71",
   "metadata": {},
   "source": [
    "Завдання 7: Замінити тип нечислових даних на числові. "
   ]
  },
  {
   "cell_type": "code",
   "execution_count": 8,
   "id": "137a0e43-b995-49f6-86df-b77452dbe263",
   "metadata": {},
   "outputs": [
    {
     "name": "stdout",
     "output_type": "stream",
     "text": [
      "\n",
      "Типи стовбпців після змін: \n",
      "Рік                       object\n",
      "В національній валюті    float64\n",
      "В доларах США            float64\n",
      "dtype: object\n",
      "     Рік  В національній валюті  В доларах США\n",
      "0   1992                5832.88          28.04\n",
      "1   1993              163533.00          36.03\n",
      "2   1994             1426343.00          44.99\n",
      "3   1995             7304000.00          49.53\n",
      "4   1996                 125.23          68.45\n",
      "5   1997                 143.09          76.86\n",
      "6   1998                 152.83          62.39\n",
      "7   1999                 177.39          42.95\n",
      "8   2000                 231.04          42.47\n",
      "9   2001                 311.62          58.01\n",
      "10  2002                 375.98          70.59\n",
      "11  2003                 462.58          86.74\n",
      "12  2004                 590.53         111.02\n",
      "13  2005                 806.14         157.30\n",
      "14  2006                1042.88         206.51\n",
      "15  2007                1352.75         267.87\n",
      "16  2008                1808.92         343.43\n",
      "17  2009                1909.25         245.05\n",
      "18  2010                2246.75         283.12\n",
      "19  2011                2639.17         331.24\n",
      "20  2012                3031.92         379.42\n",
      "21  2013                3273.82         409.59\n",
      "22  2014                3474.75         292.32\n",
      "23  2015                4207.33         162.60\n",
      "24  2016                5187.33         203.02\n",
      "25  2017                7105.42         267.16\n",
      "26  2018                8867.33         325.99\n",
      "27  2019               10503.75         406.40\n",
      "28  2020               11596.60         430.21\n",
      "29  2021               14017.80         514.41\n",
      "30  2022               13376.21         380.00\n",
      "31  2023               12954.12         327.70\n"
     ]
    }
   ],
   "source": [
    "data_clean['В національній валюті'] = data_clean['В національній валюті'].astype(str).str.replace('▲', '').str.replace('▼', '').str.replace(',', '.')\n",
    "data_clean['В доларах США'] = data_clean['В доларах США'].astype(str).str.replace('▲', '').str.replace('▼', '').str.replace(',', '.')\n",
    "data_clean['Рік'] = data_clean['Рік'].astype(str).str.replace('*', '')\n",
    "for col in data_clean.iloc[:, 1:]:\n",
    "    if data_clean[col].dtype != \"float64\":\n",
    "        data_clean[col] = pd.to_numeric(data_clean[col], errors = 'coerce')\n",
    "print(\"\\nТипи стовбпців після змін: \")\n",
    "print(data_clean.dtypes)\n",
    "print(data_clean)"
   ]
  },
  {
   "cell_type": "markdown",
   "id": "60b4f1c5-74ff-44d7-8de6-93315bc441dd",
   "metadata": {},
   "source": [
    "Завдання 8: Порахуйте частку пропусків в кожній колонці (за допомогою методів isnull , sum, len) "
   ]
  },
  {
   "cell_type": "code",
   "execution_count": 9,
   "id": "de3f1127-0039-47ac-886b-16f244cde870",
   "metadata": {},
   "outputs": [
    {
     "name": "stdout",
     "output_type": "stream",
     "text": [
      "Частка пропусків в кожній колонці: \n",
      "Рік                      0.0\n",
      "В національній валюті    0.0\n",
      "В доларах США            0.0\n",
      "dtype: float64\n"
     ]
    }
   ],
   "source": [
    "missing_percentage = (data_clean.isnull().sum()/len(data_clean)) * 100\n",
    "print(\"Частка пропусків в кожній колонці: \")\n",
    "print(missing_percentage)"
   ]
  },
  {
   "cell_type": "markdown",
   "id": "9ae97c89-4b37-409f-88ac-c3e80306b2c1",
   "metadata": {},
   "source": [
    "Завдання 9: Замініть всі пропущені значення на середні значення по (стовпцю). "
   ]
  },
  {
   "cell_type": "code",
   "execution_count": 10,
   "id": "dd97acf8-9e7b-4c04-84bb-f73152317048",
   "metadata": {},
   "outputs": [
    {
     "name": "stdout",
     "output_type": "stream",
     "text": [
      "     Рік  В національній валюті  В доларах США\n",
      "0   1992                5832.88          28.04\n",
      "1   1993              163533.00          36.03\n",
      "2   1994             1426343.00          44.99\n",
      "3   1995             7304000.00          49.53\n",
      "4   1996                 125.23          68.45\n",
      "5   1997                 143.09          76.86\n",
      "6   1998                 152.83          62.39\n",
      "7   1999                 177.39          42.95\n",
      "8   2000                 231.04          42.47\n",
      "9   2001                 311.62          58.01\n",
      "10  2002                 375.98          70.59\n",
      "11  2003                 462.58          86.74\n",
      "12  2004                 590.53         111.02\n",
      "13  2005                 806.14         157.30\n",
      "14  2006                1042.88         206.51\n",
      "15  2007                1352.75         267.87\n",
      "16  2008                1808.92         343.43\n",
      "17  2009                1909.25         245.05\n",
      "18  2010                2246.75         283.12\n",
      "19  2011                2639.17         331.24\n",
      "20  2012                3031.92         379.42\n",
      "21  2013                3273.82         409.59\n",
      "22  2014                3474.75         292.32\n",
      "23  2015                4207.33         162.60\n",
      "24  2016                5187.33         203.02\n",
      "25  2017                7105.42         267.16\n",
      "26  2018                8867.33         325.99\n",
      "27  2019               10503.75         406.40\n",
      "28  2020               11596.60         430.21\n",
      "29  2021               14017.80         514.41\n",
      "30  2022               13376.21         380.00\n",
      "31  2023               12954.12         327.70\n"
     ]
    }
   ],
   "source": [
    "data_clean = data_clean.fillna({'В національній валюті': data_clean['В національній валюті'].mean(), 'В доларах США': data_clean['В доларах США'].mean()})\n",
    "print(data_clean)"
   ]
  },
  {
   "cell_type": "markdown",
   "id": "314f7dfb-33a3-4a17-89c6-2a425bb0133c",
   "metadata": {},
   "source": [
    "Завдання 10: Знайдіть рік з найвищою зарплатою в Україні в грн і вкажіть цю зарплату. "
   ]
  },
  {
   "cell_type": "code",
   "execution_count": 11,
   "id": "1753714e-81eb-4103-9138-9a1252c21bb6",
   "metadata": {},
   "outputs": [
    {
     "name": "stdout",
     "output_type": "stream",
     "text": [
      "Найбільша зарплатня в грн -  7304000.0\n",
      "Рік з найбільшою зарплатньою -  1995\n"
     ]
    }
   ],
   "source": [
    "salary_idx = data_clean['В національній валюті'].idxmax()\n",
    "salary = data_clean['В національній валюті'].max()\n",
    "year = data_clean.loc[salary_idx,'Рік']\n",
    "print(\"Найбільша зарплатня в грн - \", salary)\n",
    "print(\"Рік з найбільшою зарплатньою - \", year)"
   ]
  },
  {
   "cell_type": "markdown",
   "id": "4c340085-eaac-4206-a2d1-e1656e4a3c62",
   "metadata": {},
   "source": [
    "Завдання 11: Знайдіть рік з мінімальною  зарплатою в Україні в дол. США і вкажіть цю зарплату. "
   ]
  },
  {
   "cell_type": "code",
   "execution_count": 12,
   "id": "91dc1dd5-86f6-412c-9f20-f1392df6b484",
   "metadata": {},
   "outputs": [
    {
     "name": "stdout",
     "output_type": "stream",
     "text": [
      "Найменша зарплатня в доларах -  28.04\n",
      "Рік з найменшою зарплатньою -  1992\n"
     ]
    }
   ],
   "source": [
    "salary_idx = data_clean['В доларах США'].idxmin()\n",
    "salary = data_clean['В доларах США'].min()\n",
    "year = data_clean.loc[salary_idx,'Рік']\n",
    "print(\"Найменша зарплатня в доларах - \", salary)\n",
    "print(\"Рік з найменшою зарплатньою - \", year)"
   ]
  },
  {
   "cell_type": "markdown",
   "id": "ddccec61-d7a1-4b19-b2c4-e416a87429d9",
   "metadata": {},
   "source": [
    "Завдання 12: Виведіть роки, коли зарплата в грн була вище середньої. "
   ]
  },
  {
   "cell_type": "code",
   "execution_count": 13,
   "id": "6191066b-5fb3-4690-bb92-140f64bc375b",
   "metadata": {},
   "outputs": [
    {
     "name": "stdout",
     "output_type": "stream",
     "text": [
      "Середня зарплата:  281615.04406250006\n",
      "Pоки, коли зарплата в грн була вище середньої: \n",
      "2    1994\n",
      "3    1995\n",
      "Name: Рік, dtype: object\n"
     ]
    }
   ],
   "source": [
    "average = data_clean['В національній валюті'].mean()\n",
    "higher = data_clean[data_clean['В національній валюті'] > average]['Рік']\n",
    "print(\"Середня зарплата: \", average)\n",
    "print(\"Pоки, коли зарплата в грн була вище середньої: \")\n",
    "print(higher)"
   ]
  },
  {
   "cell_type": "markdown",
   "id": "92668b0a-58d4-4643-b2d2-6c3b53958d3e",
   "metadata": {},
   "source": [
    "Завдання 13: Порівняйте  зарплату  в грн за останні два доступних роки.  "
   ]
  },
  {
   "cell_type": "code",
   "execution_count": 14,
   "id": "2964961c-498f-4aed-8a38-712070e7d2c9",
   "metadata": {},
   "outputs": [
    {
     "name": "stdout",
     "output_type": "stream",
     "text": [
      "Заробіня плата за 2022 рік складала 13376.21 і була більша за 2023 рік на 422.0899999999983 грн\n"
     ]
    }
   ],
   "source": [
    "salary = data_clean['В національній валюті'].tail(2)\n",
    "years = data_clean['Рік'].tail(2)\n",
    "if salary.iloc[0] > salary.iloc[1]:\n",
    "    print(f\"Заробіня плата за {years.iloc[0]} рік складала {salary.iloc[0]} і була більша за {years.iloc[1]} рік на {salary.iloc[0] - salary.iloc[1]} грн\")\n",
    "else:\n",
    "    print(f\"Заробіня плата за {years.iloc[1]} рік складала {salary.iloc[1]} і була більша за {years.iloc[0]} рік на {salary.iloc[1] - salary.iloc[0]} грн\")"
   ]
  },
  {
   "cell_type": "markdown",
   "id": "7f8c136a-13e7-416e-829c-f3839a3cc073",
   "metadata": {},
   "source": [
    "Завдання 14: Створіть графік, що відображає  зарплату в Україні з часом (за роками). "
   ]
  },
  {
   "cell_type": "code",
   "execution_count": 15,
   "id": "0702dbc2-f076-4ad9-aff9-79627a8f5dbe",
   "metadata": {},
   "outputs": [
    {
     "data": {
      "image/png": "[encoded data removed]",
      "text/plain": [
       "<Figure size 640x480 with 1 Axes>"
      ]
     },
     "metadata": {},
     "output_type": "display_data"
    }
   ],
   "source": [
    "y = data_clean['В національній валюті']\n",
    "x = data_clean['Рік']\n",
    "\n",
    "plt.plot(x, y, label='зарплатa в Україні')\n",
    "plt.xticks(fontsize = 4)\n",
    "plt.ylabel('зарплатa', fontsize='small', color='midnightblue')\n",
    "plt.xlabel('роки', fontsize='small', color='midnightblue')\n",
    "plt.title('Графік, що відображає  зарплату в Україні з часом (за роками)')\n",
    "plt.legend()\n",
    "plt.grid(True)\n",
    "plt.show()"
   ]
  },
  {
   "cell_type": "markdown",
   "id": "b70d5de5-8df0-4c63-a8f9-10459161dbbc",
   "metadata": {},
   "source": [
    "Завдання 15: Видаліть останній рік з таблиці та виведіть оновлену таблицю. "
   ]
  },
  {
   "cell_type": "code",
   "execution_count": 16,
   "id": "2c2867a5-47f9-4dca-aa9c-6ab762e21a7e",
   "metadata": {},
   "outputs": [
    {
     "name": "stdout",
     "output_type": "stream",
     "text": [
      "     Рік  В національній валюті  В доларах США\n",
      "0   1992                5832.88          28.04\n",
      "1   1993              163533.00          36.03\n",
      "2   1994             1426343.00          44.99\n",
      "3   1995             7304000.00          49.53\n",
      "4   1996                 125.23          68.45\n",
      "5   1997                 143.09          76.86\n",
      "6   1998                 152.83          62.39\n",
      "7   1999                 177.39          42.95\n",
      "8   2000                 231.04          42.47\n",
      "9   2001                 311.62          58.01\n",
      "10  2002                 375.98          70.59\n",
      "11  2003                 462.58          86.74\n",
      "12  2004                 590.53         111.02\n",
      "13  2005                 806.14         157.30\n",
      "14  2006                1042.88         206.51\n",
      "15  2007                1352.75         267.87\n",
      "16  2008                1808.92         343.43\n",
      "17  2009                1909.25         245.05\n",
      "18  2010                2246.75         283.12\n",
      "19  2011                2639.17         331.24\n",
      "20  2012                3031.92         379.42\n",
      "21  2013                3273.82         409.59\n",
      "22  2014                3474.75         292.32\n",
      "23  2015                4207.33         162.60\n",
      "24  2016                5187.33         203.02\n",
      "25  2017                7105.42         267.16\n",
      "26  2018                8867.33         325.99\n",
      "27  2019               10503.75         406.40\n",
      "28  2020               11596.60         430.21\n",
      "29  2021               14017.80         514.41\n",
      "30  2022               13376.21         380.00\n"
     ]
    }
   ],
   "source": [
    "data_clean.drop(index = 31, inplace = True)\n",
    "print(data_clean)"
   ]
  },
  {
   "cell_type": "markdown",
   "id": "dde80714-16ba-4590-96d5-ad5e4b1fc77f",
   "metadata": {},
   "source": [
    "Завдання 16: Побудуйте графік, що відображає середню зарплату в Україні в розрізі років без останнього року. "
   ]
  },
  {
   "cell_type": "code",
   "execution_count": 17,
   "id": "336da12d-4c54-49d4-bc01-45a20b15d7f0",
   "metadata": {},
   "outputs": [
    {
     "data": {
      "image/png": "[encoded data removed]",
      "text/plain": [
       "<Figure size 640x480 with 1 Axes>"
      ]
     },
     "metadata": {},
     "output_type": "display_data"
    }
   ],
   "source": [
    "y = data_clean['В національній валюті']\n",
    "x = data_clean['Рік']\n",
    "\n",
    "plt.plot(x, y, label='зарплатa в Україні')\n",
    "plt.xticks(fontsize = 4)\n",
    "plt.ylabel('зарплатa', fontsize='small', color='midnightblue')\n",
    "plt.xlabel('роки', fontsize='small', color='midnightblue')\n",
    "plt.title('Графік, що що відображає середню зарплату в Україні в розрізі років без останнього року.')\n",
    "plt.legend()\n",
    "plt.grid(True)\n",
    "plt.show()"
   ]
  },
  {
   "cell_type": "markdown",
   "id": "e528f115-c9b4-4a0f-94f6-972942841ad0",
   "metadata": {},
   "source": [
    "Завдання 17: Обчисліть зарплату за останні два роки і порівняйте її із зарплатою за останні 5 років. Вкажіть, чи є різниця, і в якому напрямку. "
   ]
  },
  {
   "cell_type": "code",
   "execution_count": 18,
   "id": "34685f01-ead4-4784-a4f0-c81593b0dba1",
   "metadata": {},
   "outputs": [
    {
     "name": "stdout",
     "output_type": "stream",
     "text": [
      "Отже середня зарплата за останні 2 роки збільшилась на 2024.6669999999995 грн в порівняні із зарплатою за останні 5 років\n"
     ]
    }
   ],
   "source": [
    "salary2years = data_clean['В національній валюті'].tail(2)\n",
    "salary5years = data_clean['В національній валюті'].tail(5)\n",
    "average2years = salary2years.mean()\n",
    "average5years = salary5years.mean()\n",
    "print(f\"Отже середня зарплата за останні 2 роки збільшилась на {average2years - average5years} грн в порівняні із зарплатою за останні 5 років\")"
   ]
  },
  {
   "cell_type": "markdown",
   "id": "7a16c2ed-9e46-4341-a4f2-772ee3c73d3d",
   "metadata": {},
   "source": [
    "На практичній роботі я вдосконалила знання із мови програмування - Python, а саме зчитувати дані з Вікіпедії та робити операції над ними (видаляти стопчики, шукати максимальні та мінімальні значення, заповнювати пропуски і т.д) і пригадала функціонал бібліотеки pandas. Також навчилася будувати графіки з бібліоткою Mathplotlib."
   ]
  },
  {
   "cell_type": "code",
   "execution_count": null,
   "id": "f5961c83-873a-4f2f-a21a-610e8beb23d7",
   "metadata": {},
   "outputs": [],
   "source": []
  }
 ],
 "metadata": {
  "kernelspec": {
   "display_name": "Python 3 (ipykernel)",
   "language": "python",
   "name": "python3"
  },
  "language_info": {
   "codemirror_mode": {
    "name": "ipython",
    "version": 3
   },
   "file_extension": ".py",
   "mimetype": "text/x-python",
   "name": "python",
   "nbconvert_exporter": "python",
   "pygments_lexer": "ipython3",
   "version": "3.11.3"
  }
 },
 "nbformat": 4,
 "nbformat_minor": 5
}
