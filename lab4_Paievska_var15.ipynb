{
 "cells": [
  {
   "cell_type": "markdown",
   "id": "d448e26d-8d86-4a4e-89d6-c9da5528aecf",
   "metadata": {},
   "source": [
    "## ПРАКТИЧНА РОБОТА 4"
   ]
  },
  {
   "cell_type": "markdown",
   "id": "e579227c-9587-4819-b2c2-041844374a07",
   "metadata": {},
   "source": [
    "### Варіант 15"
   ]
  },
  {
   "cell_type": "markdown",
   "id": "010c300d-79ef-4489-bb59-0d2efe41b25a",
   "metadata": {},
   "source": [
    "##### Частина 1"
   ]
  },
  {
   "cell_type": "markdown",
   "id": "d3559149-1d8f-457c-b0a0-0d1f16aadfce",
   "metadata": {},
   "source": [
    "###### Завдання 1: Завантажте файл Housing.csv. Виведіть перші 5 рядків. "
   ]
  },
  {
   "cell_type": "code",
   "execution_count": 1,
   "id": "628fe585-c3f3-4b61-913e-55fbe24bde06",
   "metadata": {},
   "outputs": [],
   "source": [
    "import pandas as pd\n",
    "import numpy as np\n",
    "import matplotlib.pyplot as plt\n",
    "from sklearn.model_selection import train_test_split, cross_val_score\n",
    "from sklearn.linear_model import LinearRegression\n",
    "from sklearn.metrics import mean_squared_error, r2_score"
   ]
  },
  {
   "cell_type": "code",
   "execution_count": 2,
   "id": "f1ae9e02-2e5b-4d80-9f3d-33d8ddfec9fe",
   "metadata": {},
   "outputs": [
    {
     "name": "stdout",
     "output_type": "stream",
     "text": [
      "      price  area  bedrooms  bathrooms  stories mainroad guestroom basement  \\\n",
      "0  13300000  7420         4          2        3      yes        no       no   \n",
      "1  12250000  8960         4          4        4      yes        no       no   \n",
      "2  12250000  9960         3          2        2      yes        no      yes   \n",
      "3  12215000  7500         4          2        2      yes        no      yes   \n",
      "4  11410000  7420         4          1        2      yes       yes      yes   \n",
      "\n",
      "  hotwaterheating airconditioning  parking prefarea furnishingstatus  \n",
      "0              no             yes        2      yes        furnished  \n",
      "1              no             yes        3       no        furnished  \n",
      "2              no              no        2      yes   semi-furnished  \n",
      "3              no             yes        3      yes        furnished  \n",
      "4              no             yes        2       no        furnished  \n"
     ]
    }
   ],
   "source": [
    "data = pd.read_csv(\"Housing .csv\")\n",
    "\n",
    "print(data.head(5))"
   ]
  },
  {
   "cell_type": "markdown",
   "id": "ed60192f-901e-432e-a52c-0c70b7c3344b",
   "metadata": {},
   "source": [
    "###### Завдання 2: Зробіть новий датасет, який містить тільки ці стовпчики. \n",
    "columns = ['price', 'area', 'bedrooms', 'bathrooms'] "
   ]
  },
  {
   "cell_type": "code",
   "execution_count": 3,
   "id": "54b4bc0b-14a9-4024-85e4-daf51382d322",
   "metadata": {},
   "outputs": [
    {
     "name": "stdout",
     "output_type": "stream",
     "text": [
      "        price  area  bedrooms  bathrooms\n",
      "0    13300000  7420         4          2\n",
      "1    12250000  8960         4          4\n",
      "2    12250000  9960         3          2\n",
      "3    12215000  7500         4          2\n",
      "4    11410000  7420         4          1\n",
      "..        ...   ...       ...        ...\n",
      "540   1820000  3000         2          1\n",
      "541   1767150  2400         3          1\n",
      "542   1750000  3620         2          1\n",
      "543   1750000  2910         3          1\n",
      "544   1750000  3850         3          1\n",
      "\n",
      "[545 rows x 4 columns]\n"
     ]
    }
   ],
   "source": [
    "new_data = data.copy()\n",
    "columns = ['price', 'area', 'bedrooms', 'bathrooms'] \n",
    "new_data = new_data[columns]\n",
    "\n",
    "print(new_data)"
   ]
  },
  {
   "cell_type": "markdown",
   "id": "8dc134d9-1c6e-413c-aa0b-3a522f7e401e",
   "metadata": {},
   "source": [
    "###### Завдання 3: Проведіть попередній аналіз даних: вивчіть структуру даних, перевірте наявність відсутніх значень та інші особливості даних. \n",
    "Зробити це  по аналогії з попередніми роботами (визначити тип даних, перевірити наявність “-“, замінити на Nan, потім змінити тип даних на float, потім на середнє значення за стовпчиком. "
   ]
  },
  {
   "cell_type": "code",
   "execution_count": 4,
   "id": "62efebc9-72e9-4f14-ada4-5ac2c5cb1776",
   "metadata": {},
   "outputs": [
    {
     "name": "stdout",
     "output_type": "stream",
     "text": [
      "Форма даних:  (545, 4)\n"
     ]
    },
    {
     "data": {
      "text/html": [
       "<div>\n",
       "<style scoped>\n",
       "    .dataframe tbody tr th:only-of-type {\n",
       "        vertical-align: middle;\n",
       "    }\n",
       "\n",
       "    .dataframe tbody tr th {\n",
       "        vertical-align: top;\n",
       "    }\n",
       "\n",
       "    .dataframe thead th {\n",
       "        text-align: right;\n",
       "    }\n",
       "</style>\n",
       "<table border=\"1\" class=\"dataframe\">\n",
       "  <thead>\n",
       "    <tr style=\"text-align: right;\">\n",
       "      <th></th>\n",
       "      <th>price</th>\n",
       "      <th>area</th>\n",
       "      <th>bedrooms</th>\n",
       "      <th>bathrooms</th>\n",
       "    </tr>\n",
       "  </thead>\n",
       "  <tbody>\n",
       "    <tr>\n",
       "      <th>count</th>\n",
       "      <td>5.450000e+02</td>\n",
       "      <td>545.000000</td>\n",
       "      <td>545.000000</td>\n",
       "      <td>545.000000</td>\n",
       "    </tr>\n",
       "    <tr>\n",
       "      <th>mean</th>\n",
       "      <td>4.766729e+06</td>\n",
       "      <td>5150.541284</td>\n",
       "      <td>2.965138</td>\n",
       "      <td>1.286239</td>\n",
       "    </tr>\n",
       "    <tr>\n",
       "      <th>std</th>\n",
       "      <td>1.870440e+06</td>\n",
       "      <td>2170.141023</td>\n",
       "      <td>0.738064</td>\n",
       "      <td>0.502470</td>\n",
       "    </tr>\n",
       "    <tr>\n",
       "      <th>min</th>\n",
       "      <td>1.750000e+06</td>\n",
       "      <td>1650.000000</td>\n",
       "      <td>1.000000</td>\n",
       "      <td>1.000000</td>\n",
       "    </tr>\n",
       "    <tr>\n",
       "      <th>25%</th>\n",
       "      <td>3.430000e+06</td>\n",
       "      <td>3600.000000</td>\n",
       "      <td>2.000000</td>\n",
       "      <td>1.000000</td>\n",
       "    </tr>\n",
       "    <tr>\n",
       "      <th>50%</th>\n",
       "      <td>4.340000e+06</td>\n",
       "      <td>4600.000000</td>\n",
       "      <td>3.000000</td>\n",
       "      <td>1.000000</td>\n",
       "    </tr>\n",
       "    <tr>\n",
       "      <th>75%</th>\n",
       "      <td>5.740000e+06</td>\n",
       "      <td>6360.000000</td>\n",
       "      <td>3.000000</td>\n",
       "      <td>2.000000</td>\n",
       "    </tr>\n",
       "    <tr>\n",
       "      <th>max</th>\n",
       "      <td>1.330000e+07</td>\n",
       "      <td>16200.000000</td>\n",
       "      <td>6.000000</td>\n",
       "      <td>4.000000</td>\n",
       "    </tr>\n",
       "  </tbody>\n",
       "</table>\n",
       "</div>"
      ],
      "text/plain": [
       "              price          area    bedrooms   bathrooms\n",
       "count  5.450000e+02    545.000000  545.000000  545.000000\n",
       "mean   4.766729e+06   5150.541284    2.965138    1.286239\n",
       "std    1.870440e+06   2170.141023    0.738064    0.502470\n",
       "min    1.750000e+06   1650.000000    1.000000    1.000000\n",
       "25%    3.430000e+06   3600.000000    2.000000    1.000000\n",
       "50%    4.340000e+06   4600.000000    3.000000    1.000000\n",
       "75%    5.740000e+06   6360.000000    3.000000    2.000000\n",
       "max    1.330000e+07  16200.000000    6.000000    4.000000"
      ]
     },
     "execution_count": 4,
     "metadata": {},
     "output_type": "execute_result"
    }
   ],
   "source": [
    "print(\"Форма даних: \", new_data.shape)\n",
    "new_data.describe()"
   ]
  },
  {
   "cell_type": "code",
   "execution_count": 5,
   "id": "df0a6d75-657c-4618-9d27-660db76705dd",
   "metadata": {},
   "outputs": [
    {
     "name": "stdout",
     "output_type": "stream",
     "text": [
      "Оновлена таблиця: \n",
      "         price  area  bedrooms  bathrooms\n",
      "0    13300000  7420         4          2\n",
      "1    12250000  8960         4          4\n",
      "2    12250000  9960         3          2\n",
      "3    12215000  7500         4          2\n",
      "4    11410000  7420         4          1\n",
      "..        ...   ...       ...        ...\n",
      "540   1820000  3000         2          1\n",
      "541   1767150  2400         3          1\n",
      "542   1750000  3620         2          1\n",
      "543   1750000  2910         3          1\n",
      "544   1750000  3850         3          1\n",
      "\n",
      "[545 rows x 4 columns]\n"
     ]
    }
   ],
   "source": [
    "data_clean = new_data.replace(to_replace = \"—\", value = np.NaN)\n",
    "print(\"Оновлена таблиця: \\n\", data_clean)"
   ]
  },
  {
   "cell_type": "code",
   "execution_count": 6,
   "id": "e134b7f1-b215-4bfe-bec1-5f113993d500",
   "metadata": {},
   "outputs": [
    {
     "name": "stdout",
     "output_type": "stream",
     "text": [
      "Тип даних: \n",
      " price        int64\n",
      "area         int64\n",
      "bedrooms     int64\n",
      "bathrooms    int64\n",
      "dtype: object\n"
     ]
    }
   ],
   "source": [
    "print(\"Тип даних: \\n\", data_clean.dtypes)"
   ]
  },
  {
   "cell_type": "code",
   "execution_count": 7,
   "id": "d5e4089c-cd18-4ed8-a15d-c5a351c8fe2f",
   "metadata": {},
   "outputs": [
    {
     "name": "stdout",
     "output_type": "stream",
     "text": [
      "Сума пропусків в кожній колонці: \n",
      "price        0\n",
      "area         0\n",
      "bedrooms     0\n",
      "bathrooms    0\n",
      "dtype: int64\n"
     ]
    }
   ],
   "source": [
    "missing_sum = data_clean.isnull().sum()\n",
    "\n",
    "print(\"Сума пропусків в кожній колонці: \")\n",
    "print(missing_sum)"
   ]
  },
  {
   "cell_type": "markdown",
   "id": "2606e1e3-9658-4b6e-8ae6-e6bc27f44557",
   "metadata": {},
   "source": [
    "###### Завдання 4: Нормалізуйте дані перед подальшим використанням. Це може покращити швидкість навчання моделі та поліпшити її стабільність. Дані для лінійної регресії нормалізуються так, щоб їх середнє значення було близьким до 0, а стандартне відхилення - близьким до 1. "
   ]
  },
  {
   "cell_type": "code",
   "execution_count": 8,
   "id": "80baa9a2-2829-4c7c-81b3-091223fdcb59",
   "metadata": {},
   "outputs": [
    {
     "name": "stdout",
     "output_type": "stream",
     "text": [
      "      price      area  bedrooms  bathrooms\n",
      "0  13300000  1.045766  1.402131   1.420507\n",
      "1  12250000  1.755397  1.402131   5.400847\n",
      "2  12250000  2.216196  0.047235   1.420507\n",
      "3  12215000  1.082630  1.402131   1.420507\n",
      "4  11410000  1.045766  1.402131  -0.569663\n"
     ]
    }
   ],
   "source": [
    "for col in columns[1:]:\n",
    "    data_clean[col] = (data_clean[col] - data_clean[col].mean()) / data_clean[col].std()\n",
    "    \n",
    "print(data_clean.head())"
   ]
  },
  {
   "cell_type": "markdown",
   "id": "f2367db4-a48d-459c-843d-fbc0fa2e7a22",
   "metadata": {},
   "source": [
    "###### Завдання 5: Підготуйте дані: виберіть атрибути (площа, кількість ванних кімнат, кількість спалень) та цільову змінну (ціну на будинок)."
   ]
  },
  {
   "cell_type": "code",
   "execution_count": 9,
   "id": "9fce358c-accb-4427-ba40-3fe81eb51276",
   "metadata": {},
   "outputs": [],
   "source": [
    "X = data_clean[['area', 'bedrooms', 'bathrooms']].values\n",
    "y = data_clean[['price']].values"
   ]
  },
  {
   "cell_type": "markdown",
   "id": "fd89256f-18cd-4a02-9d06-e0555d55ac4e",
   "metadata": {},
   "source": [
    "###### Завдання 6: Розділіть дані на навчальний та тестовий набори для подальшого оцінювання моделі. "
   ]
  },
  {
   "cell_type": "code",
   "execution_count": 10,
   "id": "675d7b7c-6a3a-4f96-b6dc-127aef17691e",
   "metadata": {},
   "outputs": [
    {
     "name": "stdout",
     "output_type": "stream",
     "text": [
      "[[-0.70527273 -1.30766139 -0.56966336]\n",
      " [-0.5301689  -1.30766139 -0.56966336]\n",
      " [-0.97253647 -1.30766139 -0.56966336]\n",
      " ...\n",
      " [ 0.2762303   0.04723492  1.42050672]\n",
      " [-0.71448872  0.04723492 -0.56966336]\n",
      " [ 0.66790992  0.04723492 -0.56966336]]\n",
      "[[ 1750000]\n",
      " [ 2695000]\n",
      " [ 2870000]\n",
      " [ 2590000]\n",
      " [ 4515000]\n",
      " [ 4410000]\n",
      " [ 4585000]\n",
      " [ 5250000]\n",
      " [ 3570000]\n",
      " [ 3640000]\n",
      " [ 9800000]\n",
      " [ 2940000]\n",
      " [ 6083000]\n",
      " [ 3255000]\n",
      " [ 4893000]\n",
      " [ 3150000]\n",
      " [ 2975000]\n",
      " [ 6930000]\n",
      " [ 3500000]\n",
      " [ 5880000]\n",
      " [ 3500000]\n",
      " [ 4235000]\n",
      " [ 3710000]\n",
      " [ 4060000]\n",
      " [ 2345000]\n",
      " [ 4550000]\n",
      " [10150000]\n",
      " [ 3640000]\n",
      " [ 2660000]\n",
      " [ 2233000]\n",
      " [ 2135000]\n",
      " [ 4277000]\n",
      " [ 6230000]\n",
      " [ 6300000]\n",
      " [ 3920000]\n",
      " [ 7350000]\n",
      " [ 8400000]\n",
      " [ 5215000]\n",
      " [ 7420000]\n",
      " [ 6230000]\n",
      " [ 4900000]\n",
      " [ 4550000]\n",
      " [ 4060000]\n",
      " [ 3010000]\n",
      " [ 7343000]\n",
      " [ 5600000]\n",
      " [ 7140000]\n",
      " [10150000]\n",
      " [ 9870000]\n",
      " [ 3780000]\n",
      " [ 2940000]\n",
      " [ 2653000]\n",
      " [ 3836000]\n",
      " [ 4760000]\n",
      " [ 7962500]\n",
      " [ 3143000]\n",
      " [ 3500000]\n",
      " [ 4690000]\n",
      " [ 4340000]\n",
      " [ 4515000]\n",
      " [ 1767150]\n",
      " [ 3080000]\n",
      " [ 5950000]\n",
      " [ 5530000]\n",
      " [ 3150000]\n",
      " [ 7210000]\n",
      " [ 2800000]\n",
      " [ 3045000]\n",
      " [ 2835000]\n",
      " [ 1820000]\n",
      " [ 3465000]\n",
      " [ 4200000]\n",
      " [ 5040000]\n",
      " [ 7350000]\n",
      " [ 5250000]\n",
      " [ 4690000]\n",
      " [ 4900000]\n",
      " [ 5495000]\n",
      " [ 1750000]\n",
      " [ 8120000]\n",
      " [ 3675000]\n",
      " [ 8890000]\n",
      " [ 3920000]\n",
      " [ 4550000]\n",
      " [ 2275000]\n",
      " [ 7350000]\n",
      " [ 6650000]\n",
      " [ 8463000]\n",
      " [ 5250000]\n",
      " [ 6405000]\n",
      " [ 5285000]\n",
      " [11410000]\n",
      " [ 2604000]\n",
      " [ 5215000]\n",
      " [ 4550000]\n",
      " [ 3010000]\n",
      " [10850000]\n",
      " [ 5652500]\n",
      " [ 3850000]\n",
      " [ 4900000]\n",
      " [ 5775000]\n",
      " [ 2940000]\n",
      " [ 5950000]\n",
      " [ 8645000]\n",
      " [ 6860000]\n",
      " [ 4900000]\n",
      " [ 8750000]\n",
      " [ 2653000]\n",
      " [ 3605000]\n",
      " [ 9240000]\n",
      " [ 5250000]\n",
      " [ 3990000]\n",
      " [ 2800000]\n",
      " [ 4543000]\n",
      " [ 4795000]\n",
      " [ 2870000]\n",
      " [ 7000000]\n",
      " [ 2450000]\n",
      " [ 4550000]\n",
      " [ 5950000]\n",
      " [ 6615000]\n",
      " [ 3360000]\n",
      " [ 3773000]\n",
      " [ 3290000]\n",
      " [ 4200000]\n",
      " [ 2100000]\n",
      " [ 2275000]\n",
      " [ 5460000]\n",
      " [ 2100000]\n",
      " [ 3325000]\n",
      " [ 4473000]\n",
      " [ 4382000]\n",
      " [ 3773000]\n",
      " [ 3500000]\n",
      " [ 7420000]\n",
      " [ 4970000]\n",
      " [ 5040000]\n",
      " [ 6020000]\n",
      " [ 3010000]\n",
      " [ 3220000]\n",
      " [ 5390000]\n",
      " [ 6160000]\n",
      " [ 3500000]\n",
      " [ 7035000]\n",
      " [ 2520000]\n",
      " [ 3465000]\n",
      " [ 5110000]\n",
      " [ 2408000]\n",
      " [ 4270000]\n",
      " [ 2450000]\n",
      " [ 3220000]\n",
      " [ 4095000]\n",
      " [ 6300000]\n",
      " [ 3703000]\n",
      " [ 3010000]\n",
      " [ 4935000]\n",
      " [ 5600000]\n",
      " [ 5600000]\n",
      " [ 7910000]\n",
      " [ 2730000]\n",
      " [ 4025000]\n",
      " [ 4515000]\n",
      " [ 4200000]\n",
      " [ 3080000]\n",
      " [12250000]\n",
      " [ 4767000]\n",
      " [ 2485000]\n",
      " [ 5600000]\n",
      " [ 4550000]\n",
      " [ 4095000]\n",
      " [ 6020000]\n",
      " [ 3675000]\n",
      " [ 5250000]\n",
      " [ 5250000]\n",
      " [ 2660000]\n",
      " [ 3850000]\n",
      " [ 2961000]\n",
      " [ 5740000]\n",
      " [ 3430000]\n",
      " [ 4480000]\n",
      " [ 3920000]\n",
      " [ 4200000]\n",
      " [ 3118850]\n",
      " [ 2940000]\n",
      " [ 4480000]\n",
      " [ 4655000]\n",
      " [ 5810000]\n",
      " [ 8190000]\n",
      " [ 6475000]\n",
      " [ 4200000]\n",
      " [ 7560000]\n",
      " [ 7070000]\n",
      " [ 4907000]\n",
      " [ 4060000]\n",
      " [ 2380000]\n",
      " [ 2660000]\n",
      " [ 3885000]\n",
      " [ 4830000]\n",
      " [ 4200000]\n",
      " [ 4200000]\n",
      " [ 6685000]\n",
      " [ 4200000]\n",
      " [ 8080940]\n",
      " [ 3850000]\n",
      " [ 8400000]\n",
      " [ 2660000]\n",
      " [ 3493000]\n",
      " [ 2310000]\n",
      " [ 4130000]\n",
      " [ 2380000]\n",
      " [ 4830000]\n",
      " [ 8400000]\n",
      " [ 2835000]\n",
      " [ 3850000]\n",
      " [ 5523000]\n",
      " [ 3010000]\n",
      " [ 3430000]\n",
      " [ 5740000]\n",
      " [ 4893000]\n",
      " [ 6195000]\n",
      " [ 3430000]\n",
      " [ 3430000]\n",
      " [ 3395000]\n",
      " [ 4830000]\n",
      " [ 3115000]\n",
      " [ 5040000]\n",
      " [ 4865000]\n",
      " [ 2660000]\n",
      " [ 4900000]\n",
      " [ 4620000]\n",
      " [ 4473000]\n",
      " [ 6895000]\n",
      " [ 8575000]\n",
      " [ 4830000]\n",
      " [ 4200000]\n",
      " [ 4760000]\n",
      " [ 5873000]\n",
      " [ 6090000]\n",
      " [ 5320000]\n",
      " [ 2660000]\n",
      " [ 3010000]\n",
      " [ 7875000]\n",
      " [ 4340000]\n",
      " [ 3360000]\n",
      " [ 6650000]\n",
      " [ 3234000]\n",
      " [ 3640000]\n",
      " [ 3990000]\n",
      " [ 9240000]\n",
      " [ 4200000]\n",
      " [ 3990000]\n",
      " [ 2485000]\n",
      " [ 4515000]\n",
      " [ 4690000]\n",
      " [ 3423000]\n",
      " [ 5460000]\n",
      " [ 6580000]\n",
      " [ 5950000]\n",
      " [ 8540000]\n",
      " [ 6090000]\n",
      " [ 5600000]\n",
      " [ 5565000]\n",
      " [ 9100000]\n",
      " [ 3500000]\n",
      " [ 3920000]\n",
      " [ 6090000]\n",
      " [ 3395000]\n",
      " [ 5740000]\n",
      " [ 4620000]\n",
      " [ 4473000]\n",
      " [ 3780000]\n",
      " [ 3360000]\n",
      " [ 4060000]\n",
      " [ 4025000]\n",
      " [ 2940000]\n",
      " [ 4543000]\n",
      " [ 2520000]\n",
      " [ 2450000]\n",
      " [ 8855000]\n",
      " [ 3990000]\n",
      " [ 4200000]\n",
      " [ 3150000]\n",
      " [ 4375000]\n",
      " [ 3710000]\n",
      " [ 4690000]\n",
      " [ 3115000]\n",
      " [12215000]\n",
      " [ 3430000]\n",
      " [ 5943000]\n",
      " [ 4270000]\n",
      " [ 4235000]\n",
      " [ 6650000]\n",
      " [ 5110000]\n",
      " [ 3640000]\n",
      " [ 3150000]\n",
      " [ 2100000]\n",
      " [ 4319000]\n",
      " [ 4200000]\n",
      " [ 2450000]\n",
      " [ 5145000]\n",
      " [ 8295000]\n",
      " [ 6629000]\n",
      " [ 4165000]\n",
      " [ 4480000]\n",
      " [ 9681000]\n",
      " [ 3710000]\n",
      " [ 3255000]\n",
      " [ 6510000]\n",
      " [ 4403000]\n",
      " [ 8043000]\n",
      " [ 5033000]\n",
      " [ 7210000]\n",
      " [ 7840000]\n",
      " [ 4340000]\n",
      " [ 3430000]\n",
      " [ 7420000]\n",
      " [ 4900000]\n",
      " [ 3003000]\n",
      " [ 1855000]\n",
      " [ 2730000]\n",
      " [ 5950000]\n",
      " [ 4760000]\n",
      " [ 3360000]\n",
      " [ 7070000]\n",
      " [ 2940000]\n",
      " [ 3640000]\n",
      " [ 5866000]\n",
      " [ 5110000]\n",
      " [ 8645000]\n",
      " [ 3220000]\n",
      " [ 7700000]\n",
      " [ 3640000]\n",
      " [ 3500000]\n",
      " [13300000]\n",
      " [ 3570000]\n",
      " [ 4900000]\n",
      " [ 3465000]\n",
      " [ 3675000]\n",
      " [ 2590000]\n",
      " [ 6293000]\n",
      " [ 3500000]\n",
      " [ 3780000]\n",
      " [ 4193000]\n",
      " [ 3360000]\n",
      " [ 4200000]\n",
      " [ 5229000]\n",
      " [ 3675000]\n",
      " [ 4480000]\n",
      " [ 6300000]\n",
      " [ 4956000]\n",
      " [ 6300000]\n",
      " [ 2240000]\n",
      " [ 5425000]\n",
      " [ 5250000]\n",
      " [ 6790000]\n",
      " [ 4193000]\n",
      " [ 7455000]\n",
      " [ 3850000]\n",
      " [ 3640000]\n",
      " [ 3500000]\n",
      " [ 4900000]\n",
      " [ 4270000]\n",
      " [ 2590000]\n",
      " [ 4690000]\n",
      " [ 5600000]\n",
      " [ 5600000]\n",
      " [ 3920000]\n",
      " [ 5215000]\n",
      " [ 3773000]\n",
      " [ 3087000]\n",
      " [ 5810000]\n",
      " [ 5880000]\n",
      " [ 7490000]\n",
      " [ 3150000]\n",
      " [ 4445000]\n",
      " [ 4007500]\n",
      " [ 4900000]\n",
      " [ 6510000]\n",
      " [ 3353000]\n",
      " [ 5950000]\n",
      " [ 1890000]\n",
      " [ 2450000]\n",
      " [ 2275000]\n",
      " [ 3500000]\n",
      " [ 3570000]\n",
      " [ 6419000]\n",
      " [ 6615000]\n",
      " [ 3290000]\n",
      " [ 4403000]\n",
      " [ 5950000]\n",
      " [ 3745000]\n",
      " [ 4200000]\n",
      " [ 7245000]\n",
      " [ 3360000]\n",
      " [ 2870000]\n",
      " [ 4025000]\n",
      " [ 4480000]\n",
      " [ 3640000]\n",
      " [ 8400000]\n",
      " [ 3220000]\n",
      " [ 7700000]\n",
      " [ 6160000]\n",
      " [ 3500000]\n",
      " [ 3920000]\n",
      " [ 4340000]\n",
      " [ 2852500]\n",
      " [ 7350000]\n",
      " [ 2450000]\n",
      " [ 5873000]\n",
      " [ 8400000]\n",
      " [ 5145000]\n",
      " [ 3115000]\n",
      " [ 2520000]\n",
      " [ 5565000]\n",
      " [ 4550000]\n",
      " [ 4403000]\n",
      " [ 4200000]\n",
      " [ 3360000]\n",
      " [ 5600000]\n",
      " [ 5243000]\n",
      " [ 6265000]\n",
      " [ 3150000]\n",
      " [ 3290000]\n",
      " [ 6020000]\n",
      " [ 6720000]\n",
      " [ 5250000]\n",
      " [ 6475000]\n",
      " [ 2870000]\n",
      " [ 4095000]\n",
      " [ 3500000]\n",
      " [ 3010000]\n",
      " [ 6790000]\n",
      " [ 4305000]\n",
      " [ 9800000]\n",
      " [ 3710000]\n",
      " [ 5040000]]\n"
     ]
    }
   ],
   "source": [
    "X_train, X_test, y_train, y_test = train_test_split(X,y, test_size = 0.2, random_state = 0)\n",
    "\n",
    "print(X_train)\n",
    "print(y_train)"
   ]
  },
  {
   "cell_type": "markdown",
   "id": "2f61daa0-2266-402e-a444-821e4b731908",
   "metadata": {},
   "source": [
    "###### Завдання 7: Побудуйте модель лінійної регресії та навчіть її на навчальних даних. "
   ]
  },
  {
   "cell_type": "code",
   "execution_count": 11,
   "id": "f859f97a-8d98-4422-8f06-8cf4d1546fc8",
   "metadata": {},
   "outputs": [
    {
     "data": {
      "text/html": [
       "<style>#sk-container-id-1 {color: black;}#sk-container-id-1 pre{padding: 0;}#sk-container-id-1 div.sk-toggleable {background-color: white;}#sk-container-id-1 label.sk-toggleable__label {cursor: pointer;display: block;width: 100%;margin-bottom: 0;padding: 0.3em;box-sizing: border-box;text-align: center;}#sk-container-id-1 label.sk-toggleable__label-arrow:before {content: \"▸\";float: left;margin-right: 0.25em;color: #696969;}#sk-container-id-1 label.sk-toggleable__label-arrow:hover:before {color: black;}#sk-container-id-1 div.sk-estimator:hover label.sk-toggleable__label-arrow:before {color: black;}#sk-container-id-1 div.sk-toggleable__content {max-height: 0;max-width: 0;overflow: hidden;text-align: left;background-color: #f0f8ff;}#sk-container-id-1 div.sk-toggleable__content pre {margin: 0.2em;color: black;border-radius: 0.25em;background-color: #f0f8ff;}#sk-container-id-1 input.sk-toggleable__control:checked~div.sk-toggleable__content {max-height: 200px;max-width: 100%;overflow: auto;}#sk-container-id-1 input.sk-toggleable__control:checked~label.sk-toggleable__label-arrow:before {content: \"▾\";}#sk-container-id-1 div.sk-estimator input.sk-toggleable__control:checked~label.sk-toggleable__label {background-color: #d4ebff;}#sk-container-id-1 div.sk-label input.sk-toggleable__control:checked~label.sk-toggleable__label {background-color: #d4ebff;}#sk-container-id-1 input.sk-hidden--visually {border: 0;clip: rect(1px 1px 1px 1px);clip: rect(1px, 1px, 1px, 1px);height: 1px;margin: -1px;overflow: hidden;padding: 0;position: absolute;width: 1px;}#sk-container-id-1 div.sk-estimator {font-family: monospace;background-color: #f0f8ff;border: 1px dotted black;border-radius: 0.25em;box-sizing: border-box;margin-bottom: 0.5em;}#sk-container-id-1 div.sk-estimator:hover {background-color: #d4ebff;}#sk-container-id-1 div.sk-parallel-item::after {content: \"\";width: 100%;border-bottom: 1px solid gray;flex-grow: 1;}#sk-container-id-1 div.sk-label:hover label.sk-toggleable__label {background-color: #d4ebff;}#sk-container-id-1 div.sk-serial::before {content: \"\";position: absolute;border-left: 1px solid gray;box-sizing: border-box;top: 0;bottom: 0;left: 50%;z-index: 0;}#sk-container-id-1 div.sk-serial {display: flex;flex-direction: column;align-items: center;background-color: white;padding-right: 0.2em;padding-left: 0.2em;position: relative;}#sk-container-id-1 div.sk-item {position: relative;z-index: 1;}#sk-container-id-1 div.sk-parallel {display: flex;align-items: stretch;justify-content: center;background-color: white;position: relative;}#sk-container-id-1 div.sk-item::before, #sk-container-id-1 div.sk-parallel-item::before {content: \"\";position: absolute;border-left: 1px solid gray;box-sizing: border-box;top: 0;bottom: 0;left: 50%;z-index: -1;}#sk-container-id-1 div.sk-parallel-item {display: flex;flex-direction: column;z-index: 1;position: relative;background-color: white;}#sk-container-id-1 div.sk-parallel-item:first-child::after {align-self: flex-end;width: 50%;}#sk-container-id-1 div.sk-parallel-item:last-child::after {align-self: flex-start;width: 50%;}#sk-container-id-1 div.sk-parallel-item:only-child::after {width: 0;}#sk-container-id-1 div.sk-dashed-wrapped {border: 1px dashed gray;margin: 0 0.4em 0.5em 0.4em;box-sizing: border-box;padding-bottom: 0.4em;background-color: white;}#sk-container-id-1 div.sk-label label {font-family: monospace;font-weight: bold;display: inline-block;line-height: 1.2em;}#sk-container-id-1 div.sk-label-container {text-align: center;}#sk-container-id-1 div.sk-container {/* jupyter's `normalize.less` sets `[hidden] { display: none; }` but bootstrap.min.css set `[hidden] { display: none !important; }` so we also need the `!important` here to be able to override the default hidden behavior on the sphinx rendered scikit-learn.org. See: https://github.com/scikit-learn/scikit-learn/issues/21755 */display: inline-block !important;position: relative;}#sk-container-id-1 div.sk-text-repr-fallback {display: none;}</style><div id=\"sk-container-id-1\" class=\"sk-top-container\"><div class=\"sk-text-repr-fallback\"><pre>LinearRegression()</pre><b>In a Jupyter environment, please rerun this cell to show the HTML representation or trust the notebook. <br />On GitHub, the HTML representation is unable to render, please try loading this page with nbviewer.org.</b></div><div class=\"sk-container\" hidden><div class=\"sk-item\"><div class=\"sk-estimator sk-toggleable\"><input class=\"sk-toggleable__control sk-hidden--visually\" id=\"sk-estimator-id-1\" type=\"checkbox\" checked><label for=\"sk-estimator-id-1\" class=\"sk-toggleable__label sk-toggleable__label-arrow\">LinearRegression</label><div class=\"sk-toggleable__content\"><pre>LinearRegression()</pre></div></div></div></div></div>"
      ],
      "text/plain": [
       "LinearRegression()"
      ]
     },
     "execution_count": 11,
     "metadata": {},
     "output_type": "execute_result"
    }
   ],
   "source": [
    "model = LinearRegression()\n",
    "model.fit(X_train, y_train)"
   ]
  },
  {
   "cell_type": "markdown",
   "id": "1a48787b-7625-4db5-b286-34efda3e98a7",
   "metadata": {},
   "source": [
    "###### Завдання 8: Оцініть якість моделі на тестових даних, використовуючи показники, такі як середньоквадратична помилка (RMSE) та коефіцієнт детермінації. ППотім застосуйте  крос-валідацію для підвищення якості моделі. Порівняйте результати (без крос-валідації і з крос-валідацією). "
   ]
  },
  {
   "cell_type": "code",
   "execution_count": 12,
   "id": "2d165cd7-b643-4b88-ada8-0286f9c659d7",
   "metadata": {},
   "outputs": [
    {
     "name": "stdout",
     "output_type": "stream",
     "text": [
      "Середньоквадратична помилка (RMSE) :  1227134.3451505206\n",
      "Середній коефіцієнт детермінації без крос-валідації:  0.4774078759267767\n",
      "Середній коефіцієнт детермінації з крос-валідацією:  0.4638681704050418\n",
      "Отже, середній коефіцієнт детермінації без крос-валідації на  0.01353970552173489  більший за середній коефіцієнт детермінації з крос-валідацією\n"
     ]
    }
   ],
   "source": [
    "y_pred = model.predict(X_test)\n",
    "modelquality = mean_squared_error(y_test, y_pred)\n",
    "rmse = np.sqrt(modelquality)\n",
    "r2 = r2_score(y_test, y_pred)\n",
    "print(\"Середньоквадратична помилка (RMSE) : \", rmse)\n",
    "print(\"Середній коефіцієнт детермінації без крос-валідації: \", r2)\n",
    "\n",
    "cv_scores = cross_val_score(model, X_train, y_train, cv = 5)\n",
    "print(\"Середній коефіцієнт детермінації з крос-валідацією: \", np.mean(cv_scores))\n",
    "\n",
    "print(\"Отже, середній коефіцієнт детермінації без крос-валідації на \", r2 - np.mean(cv_scores), \" більший за середній коефіцієнт детермінації з крос-валідацією\")"
   ]
  },
  {
   "cell_type": "markdown",
   "id": "569157f8-5662-4fff-a93d-56058e0e652d",
   "metadata": {},
   "source": [
    "###### Завдання 9: Виконайте аналіз результатів та виведіть прогнозовані ціни на будинки для тестового набору даних. "
   ]
  },
  {
   "cell_type": "code",
   "execution_count": 13,
   "id": "6b7c3ab8-3b60-4d05-8697-6e715d7e2250",
   "metadata": {},
   "outputs": [
    {
     "name": "stdout",
     "output_type": "stream",
     "text": [
      "Прогнозовані ціни на будинки: \n",
      " [[ 3949389.22619793]\n",
      " [ 6149057.11813487]\n",
      " [ 4212599.32744967]\n",
      " [ 7075702.95842909]\n",
      " [ 4290879.32360401]\n",
      " [ 6284439.12672419]\n",
      " [ 3890679.22908218]\n",
      " [ 3745861.23619665]\n",
      " [ 3283819.94471289]\n",
      " [ 7796215.16663763]\n",
      " [ 6622015.22432254]\n",
      " [ 3933733.22696707]\n",
      " [ 3734119.2367735 ]\n",
      " [ 4755673.18658763]\n",
      " [ 4726318.18802975]\n",
      " [ 3334891.25638637]\n",
      " [ 3827083.11802401]\n",
      " [ 4740017.18735676]\n",
      " [ 3597129.24350341]\n",
      " [ 3670523.12571533]\n",
      " [ 6988959.09211324]\n",
      " [ 6323579.12480136]\n",
      " [ 4340789.20696963]\n",
      " [ 3049169.27042303]\n",
      " [ 4896577.17966544]\n",
      " [ 5031959.18825476]\n",
      " [ 5123589.16851302]\n",
      " [ 4606941.19389438]\n",
      " [ 6505929.13108328]\n",
      " [ 4896577.17966544]\n",
      " [ 3631383.12763816]\n",
      " [ 3274224.25936676]\n",
      " [ 5671549.1415934 ]\n",
      " [ 3490479.13456035]\n",
      " [ 3604957.24311884]\n",
      " [ 4429839.08841242]\n",
      " [ 5206755.27860978]\n",
      " [ 3572079.64473402]\n",
      " [ 2784987.0550366 ]\n",
      " [ 3235084.26128959]\n",
      " [ 7125949.08538333]\n",
      " [ 6582875.22624537]\n",
      " [ 6069169.13729975]\n",
      " [ 4534532.19745162]\n",
      " [ 3761517.23542752]\n",
      " [ 6147449.13345409]\n",
      " [ 4012013.2231214 ]\n",
      " [ 3490479.13456035]\n",
      " [ 3967393.62531343]\n",
      " [ 4614769.19350982]\n",
      " [ 4278165.21004616]\n",
      " [ 8057278.95381235]\n",
      " [ 3029599.27138445]\n",
      " [ 3416113.13821373]\n",
      " [ 4685221.19004872]\n",
      " [ 4148031.1022568 ]\n",
      " [ 7028099.09019041]\n",
      " [ 4674451.30476027]\n",
      " [ 3318263.1430208 ]\n",
      " [ 5123589.16851302]\n",
      " [ 7432849.05506603]\n",
      " [ 6856855.21278556]\n",
      " [ 4634688.20777149]\n",
      " [ 6147449.13345409]\n",
      " [ 2942519.16147997]\n",
      " [ 5376189.08552624]\n",
      " [ 6599516.1112454 ]\n",
      " [ 3635297.12744588]\n",
      " [ 4145089.21658378]\n",
      " [ 4849609.18197283]\n",
      " [ 3223342.26186644]\n",
      " [ 5951749.14306824]\n",
      " [ 3792829.23388925]\n",
      " [ 5940979.25777979]\n",
      " [ 3388715.13955971]\n",
      " [ 3032541.15705746]\n",
      " [ 4671509.41908725]\n",
      " [ 9521653.21129474]\n",
      " [ 3522763.24715678]\n",
      " [ 3474823.13532948]\n",
      " [ 3223342.26186644]\n",
      " [ 5392089.5553224 ]\n",
      " [ 6038829.25297272]\n",
      " [ 5183081.96559032]\n",
      " [ 4658795.3055294 ]\n",
      " [ 4126491.3316799 ]\n",
      " [ 3247811.1464819 ]\n",
      " [ 4179343.10071853]\n",
      " [ 3616699.24254199]\n",
      " [ 3978744.22475581]\n",
      " [ 5289542.76036022]\n",
      " [ 5906389.13005641]\n",
      " [ 3333919.14225167]\n",
      " [ 4557393.09738631]\n",
      " [ 5113168.29844766]\n",
      " [10611079.0588323 ]\n",
      " [ 3229213.26157801]\n",
      " [ 6837285.21374698]\n",
      " [ 4950401.06283878]\n",
      " [ 5196983.05072494]\n",
      " [ 8383315.13779518]\n",
      " [ 4220427.3270651 ]\n",
      " [ 5364447.08610308]\n",
      " [ 3557989.24542624]\n",
      " [ 6311837.1253782 ]\n",
      " [ 4419069.20312397]\n",
      " [ 4281107.09571918]\n",
      " [ 3670523.12571533]\n",
      " [ 6186589.13153126]]\n"
     ]
    }
   ],
   "source": [
    "pred = model.predict(X_test)\n",
    "\n",
    "print(\"Прогнозовані ціни на будинки: \\n\", pred)"
   ]
  },
  {
   "cell_type": "markdown",
   "id": "c5d7c6e9-edbf-4d6a-b646-0a7ce4372b89",
   "metadata": {},
   "source": [
    "##### Частина 2"
   ]
  },
  {
   "cell_type": "markdown",
   "id": "f4e262b8-4c44-47f1-bfb4-da1b90a98c00",
   "metadata": {},
   "source": [
    "###### Завдання 10: Визначте аналітично коефіцієнти лінійної регресії (ваги моделі) для цієї задачі, використовуючи формулу для спрощеного аналітичного рішення лінійної регресії. "
   ]
  },
  {
   "cell_type": "code",
   "execution_count": 14,
   "id": "ba7e2f4b-717c-449e-90e4-26d2328f5cd7",
   "metadata": {},
   "outputs": [
    {
     "name": "stdout",
     "output_type": "stream",
     "text": [
      "Аналітичні коефіцієнти: \n",
      "Intercept (зміщення) аналітичне рішення:  [4788268.486]\n",
      "Коефіцієнти для атрибутів : Площа =  [849393.15448181] , Кількість спалень =  [350260.08112131] ,Кількість ванних кімнат=  [711125.12153779]\n"
     ]
    }
   ],
   "source": [
    "X_train_analytical = np.hstack([np.ones((X_train.shape[0], 1)), X_train])\n",
    "coeff_analytical = np.linalg.inv(X_train_analytical.T.dot(X_train_analytical)).dot(X_train_analytical.T).dot(y_train)\n",
    "intercept_analytical = coeff_analytical[0]\n",
    "coeffs_analytical = coeff_analytical[1:]\n",
    "\n",
    "print(\"Аналітичні коефіцієнти: \")\n",
    "print(\"Intercept (зміщення) аналітичне рішення: \", intercept_analytical.round(3))\n",
    "print(\"Коефіцієнти для атрибутів : Площа = \", coeffs_analytical[0], \", Кількість спалень = \", coeffs_analytical[1], \",Кількість ванних кімнат= \", coeffs_analytical[2])"
   ]
  },
  {
   "cell_type": "markdown",
   "id": "bc5a7d97-d215-4d27-af26-0caf9bf3c68f",
   "metadata": {},
   "source": [
    "##### Частина 3"
   ]
  },
  {
   "cell_type": "markdown",
   "id": "9bc41aea-2ba5-4da9-a16b-d68a9c9d8cf8",
   "metadata": {},
   "source": [
    "###### Завдання 11: Візуалізуйте дані та результати регресії: побудуйте графіки для ознайомлення з розподілом даних і лінійною регресійною моделлю. "
   ]
  },
  {
   "cell_type": "code",
   "execution_count": 15,
   "id": "c87fd44d-16f1-48cb-a04e-2badde875302",
   "metadata": {},
   "outputs": [
    {
     "data": {
      "image/png": "[encoded data removed]",
      "text/plain": [
       "<Figure size 640x480 with 1 Axes>"
      ]
     },
     "metadata": {},
     "output_type": "display_data"
    }
   ],
   "source": [
    "plt.scatter(X_test[:, 0], y_test, label = \"Справжні ціни\", color='red', marker='o', alpha = 0.5)\n",
    "plt.scatter(X_test[:, 0], y_pred, label = \"Прогнозовані ціни \", color='blue' , marker='*', alpha = 0.5)\n",
    "plt.xlabel(\"Площа\")\n",
    "plt.ylabel(\"Ціна\")\n",
    "plt.title(\"Графік даних та результатів лінійної регресії\")\n",
    "plt.legend()\n",
    "plt.grid(True)\n",
    "plt.show()"
   ]
  },
  {
   "cell_type": "markdown",
   "id": "3aecdabe-75f9-44d8-956e-8c559bacebfd",
   "metadata": {},
   "source": [
    "###### Завдання 12: Порівняйте отримані параметри (коефіцієнти) лінійної регресії з аналітичними результатами та оцініть, наскільки схожі вони. "
   ]
  },
  {
   "cell_type": "code",
   "execution_count": 16,
   "id": "a1e6dc61-463a-4f38-a936-33554bbb85aa",
   "metadata": {},
   "outputs": [
    {
     "name": "stdout",
     "output_type": "stream",
     "text": [
      "Oтримані параметри (коефіцієнти) лінійної регресії:  [849393.15448181 350260.08112131 711125.12153779]\n",
      "Аналітичні коефіцієнти:  [[849393.15448181]\n",
      " [350260.08112131]\n",
      " [711125.12153779]]\n",
      "Різниця по коефіцієнтам становить: [[ 2.32830644e-10 -4.99133073e+05 -1.38268033e+05]\n",
      " [ 4.99133073e+05 -2.32830644e-10  3.60865040e+05]\n",
      " [ 1.38268033e+05 -3.60865040e+05  4.65661287e-10]]\n"
     ]
    }
   ],
   "source": [
    "diff = model.coef_[0] - coeffs_analytical\n",
    "\n",
    "print(\"Oтримані параметри (коефіцієнти) лінійної регресії: \", model.coef_[0])\n",
    "print(\"Аналітичні коефіцієнти: \", coeffs_analytical)\n",
    "print(\"Різниця по коефіцієнтам становить:\", diff)"
   ]
  },
  {
   "cell_type": "markdown",
   "id": "96853612-fa7f-46da-9a0b-fe6dacecd1c7",
   "metadata": {},
   "source": [
    "###### Завдання 13: Зробіть висновки щодо ефективності лінійної регресії у прогнозуванні цін на будинок на основі вказаних атрибутів та порівняння з аналітичним рішенням."
   ]
  },
  {
   "cell_type": "markdown",
   "id": "324219b6-9f59-4ba8-833a-66bbc0c64559",
   "metadata": {},
   "source": [
    "Після порівняння коефіцієнтів лінійної регресії, отриманих за допомогою навчання моделі та завдяки аналітичним обчисленням, ми помітили дуже малу різницю між ними, яка складається з дуже малих чисел, що близькі до нуля. Це свідчить про те, що модель лінійної регресії, навчена на цьому наборі даних, вдало відображає співвідношення між вхідними атрибутами (площа, кількість спалень, кількість ванних кімнат) і вихідною змінною (ціна на будинок). Отже, можна зробити висновок, що лінійна регресія є ефективним методом для прогнозування цін на будинок на основі цих атрибутів."
   ]
  },
  {
   "cell_type": "markdown",
   "id": "31c36671-ca59-4239-b7e2-a84eea2ecaab",
   "metadata": {},
   "source": [
    "###### Висновок: На практичній роботі, я навчилася застосовувати на практиці лінійну регресію, для більш точного прогнозування цін. Також зрозуміла, як правильно аналізувати та нормалізувати дані. Також я навчилася будувати, навчати та оцінювати модель лінійної регресії."
   ]
  }
 ],
 "metadata": {
  "kernelspec": {
   "display_name": "Python 3 (ipykernel)",
   "language": "python",
   "name": "python3"
  },
  "language_info": {
   "codemirror_mode": {
    "name": "ipython",
    "version": 3
   },
   "file_extension": ".py",
   "mimetype": "text/x-python",
   "name": "python",
   "nbconvert_exporter": "python",
   "pygments_lexer": "ipython3",
   "version": "3.11.3"
  }
 },
 "nbformat": 4,
 "nbformat_minor": 5
}
