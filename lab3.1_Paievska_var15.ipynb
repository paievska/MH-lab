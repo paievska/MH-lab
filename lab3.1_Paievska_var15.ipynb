{
 "cells": [
  {
   "cell_type": "markdown",
   "id": "81b7680e-b6ae-4b09-b5a3-c80fb4c1c0db",
   "metadata": {},
   "source": [
    "## ПРАКТИЧНА РОБОТА 3.1"
   ]
  },
  {
   "cell_type": "markdown",
   "id": "ec933ace-fae7-4e17-9fbf-34756f26c372",
   "metadata": {},
   "source": [
    "### Варіант 15"
   ]
  },
  {
   "cell_type": "markdown",
   "id": "ce77efd2-3f45-4e98-9bb6-7de273fed4b4",
   "metadata": {},
   "source": [
    "Завдання 1: Прочитайте CSV файл (використовуйте метод read_csv)v): "
   ]
  },
  {
   "cell_type": "code",
   "execution_count": 1,
   "id": "d164d14c-6365-484a-a0d2-e2568f5ce819",
   "metadata": {},
   "outputs": [],
   "source": [
    "import pandas as pd\n",
    "import numpy as np\n",
    "import matplotlib.pyplot as plt"
   ]
  },
  {
   "cell_type": "code",
   "execution_count": 2,
   "id": "23bab511-c2e6-4fd2-b145-7b66a98519c7",
   "metadata": {},
   "outputs": [
    {
     "name": "stdout",
     "output_type": "stream",
     "text": [
      "     rank                    Youtuber  subscribers   video views  \\\n",
      "0       1                    T-Series    245000000  2.280000e+11   \n",
      "1       2              YouTube Movies    170000000  0.000000e+00   \n",
      "2       3                     MrBeast    166000000  2.836884e+10   \n",
      "3       4  Cocomelon - Nursery Rhymes    162000000  1.640000e+11   \n",
      "4       5                   SET India    159000000  1.480000e+11   \n",
      "..    ...                         ...          ...           ...   \n",
      "990   991               Natan por Aï¿     12300000  9.029610e+09   \n",
      "991   992    Free Fire India Official     12300000  1.674410e+09   \n",
      "992   993                       Panda     12300000  2.214684e+09   \n",
      "993   994                 RobTopGames     12300000  3.741235e+08   \n",
      "994   995                Make Joke Of     12300000  2.129774e+09   \n",
      "\n",
      "             category                       Title  uploads         Country  \\\n",
      "0               Music                    T-Series    20082           India   \n",
      "1    Film & Animation               youtubemovies        1   United States   \n",
      "2       Entertainment                     MrBeast      741   United States   \n",
      "3           Education  Cocomelon - Nursery Rhymes      966   United States   \n",
      "4               Shows                   SET India   116536           India   \n",
      "..                ...                         ...      ...             ...   \n",
      "990            Sports               Natan por Aï¿     1200          Brazil   \n",
      "991    People & Blogs    Free Fire India Official     1500           India   \n",
      "992               NaN                 HybridPanda     2452  United Kingdom   \n",
      "993            Gaming                 RobTopGames       39          Sweden   \n",
      "994            Comedy                Make Joke Of       62           India   \n",
      "\n",
      "    Abbreviation   channel_type  ...  subscribers_for_last_30_days  \\\n",
      "0             IN          Music  ...                     2000000.0   \n",
      "1             US          Games  ...                           NaN   \n",
      "2             US  Entertainment  ...                     8000000.0   \n",
      "3             US      Education  ...                     1000000.0   \n",
      "4             IN  Entertainment  ...                     1000000.0   \n",
      "..           ...            ...  ...                           ...   \n",
      "990           BR  Entertainment  ...                      700000.0   \n",
      "991           IN          Games  ...                      300000.0   \n",
      "992           GB          Games  ...                        1000.0   \n",
      "993           SE          Games  ...                      100000.0   \n",
      "994           IN         Comedy  ...                      100000.0   \n",
      "\n",
      "     created_year  created_month  created_date  \\\n",
      "0          2006.0            Mar          13.0   \n",
      "1          2006.0            Mar           5.0   \n",
      "2          2012.0            Feb          20.0   \n",
      "3          2006.0            Sep           1.0   \n",
      "4          2006.0            Sep          20.0   \n",
      "..            ...            ...           ...   \n",
      "990        2017.0            Feb          12.0   \n",
      "991        2018.0            Sep          14.0   \n",
      "992        2006.0            Sep          11.0   \n",
      "993        2012.0            May           9.0   \n",
      "994        2017.0            Aug           1.0   \n",
      "\n",
      "     Gross tertiary education enrollment (%)    Population  Unemployment rate  \\\n",
      "0                                       28.1  1.366418e+09               5.36   \n",
      "1                                       88.2  3.282395e+08              14.70   \n",
      "2                                       88.2  3.282395e+08              14.70   \n",
      "3                                       88.2  3.282395e+08              14.70   \n",
      "4                                       28.1  1.366418e+09               5.36   \n",
      "..                                       ...           ...                ...   \n",
      "990                                     51.3  2.125594e+08              12.08   \n",
      "991                                     28.1  1.366418e+09               5.36   \n",
      "992                                     60.0  6.683440e+07               3.85   \n",
      "993                                     67.0  1.028545e+07               6.48   \n",
      "994                                     28.1  1.366418e+09               5.36   \n",
      "\n",
      "     Urban_population   Latitude  Longitude  \n",
      "0         471031528.0  20.593684  78.962880  \n",
      "1         270663028.0  37.090240 -95.712891  \n",
      "2         270663028.0  37.090240 -95.712891  \n",
      "3         270663028.0  37.090240 -95.712891  \n",
      "4         471031528.0  20.593684  78.962880  \n",
      "..                ...        ...        ...  \n",
      "990       183241641.0 -14.235004 -51.925280  \n",
      "991       471031528.0  20.593684  78.962880  \n",
      "992        55908316.0  55.378051  -3.435973  \n",
      "993         9021165.0  60.128161  18.643501  \n",
      "994       471031528.0  20.593684  78.962880  \n",
      "\n",
      "[995 rows x 28 columns]\n"
     ]
    }
   ],
   "source": [
    "youtube_statistics = pd.read_csv(\"Global YouTube Statistics.csv\", encoding='latin-1')\n",
    "\n",
    "print(youtube_statistics)"
   ]
  },
  {
   "cell_type": "markdown",
   "id": "da0d3ded-77ed-4a1c-b4fc-4818fc673509",
   "metadata": {},
   "source": [
    "Завдання 2: Виведіть перші п'ять рядків (використовується метод head)"
   ]
  },
  {
   "cell_type": "code",
   "execution_count": 3,
   "id": "523bc8f4-b605-4f1b-8437-2d2b54d76d3d",
   "metadata": {},
   "outputs": [
    {
     "name": "stdout",
     "output_type": "stream",
     "text": [
      "   rank                    Youtuber  subscribers   video views  \\\n",
      "0     1                    T-Series    245000000  2.280000e+11   \n",
      "1     2              YouTube Movies    170000000  0.000000e+00   \n",
      "2     3                     MrBeast    166000000  2.836884e+10   \n",
      "3     4  Cocomelon - Nursery Rhymes    162000000  1.640000e+11   \n",
      "4     5                   SET India    159000000  1.480000e+11   \n",
      "\n",
      "           category                       Title  uploads        Country  \\\n",
      "0             Music                    T-Series    20082          India   \n",
      "1  Film & Animation               youtubemovies        1  United States   \n",
      "2     Entertainment                     MrBeast      741  United States   \n",
      "3         Education  Cocomelon - Nursery Rhymes      966  United States   \n",
      "4             Shows                   SET India   116536          India   \n",
      "\n",
      "  Abbreviation   channel_type  ...  subscribers_for_last_30_days  \\\n",
      "0           IN          Music  ...                     2000000.0   \n",
      "1           US          Games  ...                           NaN   \n",
      "2           US  Entertainment  ...                     8000000.0   \n",
      "3           US      Education  ...                     1000000.0   \n",
      "4           IN  Entertainment  ...                     1000000.0   \n",
      "\n",
      "   created_year  created_month  created_date  \\\n",
      "0        2006.0            Mar          13.0   \n",
      "1        2006.0            Mar           5.0   \n",
      "2        2012.0            Feb          20.0   \n",
      "3        2006.0            Sep           1.0   \n",
      "4        2006.0            Sep          20.0   \n",
      "\n",
      "   Gross tertiary education enrollment (%)    Population  Unemployment rate  \\\n",
      "0                                     28.1  1.366418e+09               5.36   \n",
      "1                                     88.2  3.282395e+08              14.70   \n",
      "2                                     88.2  3.282395e+08              14.70   \n",
      "3                                     88.2  3.282395e+08              14.70   \n",
      "4                                     28.1  1.366418e+09               5.36   \n",
      "\n",
      "   Urban_population   Latitude  Longitude  \n",
      "0       471031528.0  20.593684  78.962880  \n",
      "1       270663028.0  37.090240 -95.712891  \n",
      "2       270663028.0  37.090240 -95.712891  \n",
      "3       270663028.0  37.090240 -95.712891  \n",
      "4       471031528.0  20.593684  78.962880  \n",
      "\n",
      "[5 rows x 28 columns]\n"
     ]
    }
   ],
   "source": [
    "y_s = youtube_statistics.head(5) \n",
    "\n",
    "print(y_s) "
   ]
  },
  {
   "cell_type": "markdown",
   "id": "de09aa5b-6dd4-46e9-adb8-5d17b722a1f2",
   "metadata": {},
   "source": [
    "Завдання 3: Виведіть розміри датасету (використовуйте метод shape)"
   ]
  },
  {
   "cell_type": "code",
   "execution_count": 4,
   "id": "cda77f44-2af4-4c15-91ae-f876ee8301c4",
   "metadata": {},
   "outputs": [
    {
     "name": "stdout",
     "output_type": "stream",
     "text": [
      "Кількість рядків: 995, Кількість стобчиків: 28\n"
     ]
    }
   ],
   "source": [
    "num_rows, num_columns = youtube_statistics.shape\n",
    "\n",
    "print(f\"Кількість рядків: {num_rows}, Кількість стобчиків: {num_columns}\")"
   ]
  },
  {
   "cell_type": "markdown",
   "id": "718fcdcc-6de8-4078-8fe2-e83d25cc88ce",
   "metadata": {},
   "source": [
    "Завдання 4: Перевірте, чи у всіх рядків вистачає даних: виведіть кількість пропусків  у кожному зі стовпців (використовуйте методи isna та sum)"
   ]
  },
  {
   "cell_type": "code",
   "execution_count": 5,
   "id": "1283a22d-b5c9-4d29-a154-d722942e7030",
   "metadata": {},
   "outputs": [
    {
     "name": "stdout",
     "output_type": "stream",
     "text": [
      "Сума пропусків в кожній колонці: \n",
      "rank                                         0\n",
      "Youtuber                                     0\n",
      "subscribers                                  0\n",
      "video views                                  0\n",
      "category                                    46\n",
      "Title                                        0\n",
      "uploads                                      0\n",
      "Country                                    122\n",
      "Abbreviation                               122\n",
      "channel_type                                30\n",
      "video_views_rank                             1\n",
      "country_rank                               116\n",
      "channel_type_rank                           33\n",
      "video_views_for_the_last_30_days            56\n",
      "lowest_monthly_earnings                      0\n",
      "highest_monthly_earnings                     0\n",
      "lowest_yearly_earnings                       0\n",
      "highest_yearly_earnings                      0\n",
      "subscribers_for_last_30_days               337\n",
      "created_year                                 5\n",
      "created_month                                5\n",
      "created_date                                 5\n",
      "Gross tertiary education enrollment (%)    123\n",
      "Population                                 123\n",
      "Unemployment rate                          123\n",
      "Urban_population                           123\n",
      "Latitude                                   123\n",
      "Longitude                                  123\n",
      "dtype: int64\n"
     ]
    }
   ],
   "source": [
    "missing_sum = youtube_statistics.isnull().sum()\n",
    "\n",
    "print(\"Сума пропусків в кожній колонці: \")\n",
    "print(missing_sum)"
   ]
  },
  {
   "cell_type": "code",
   "execution_count": 6,
   "id": "e07e3d8c-0659-4aae-ad92-a90ccc43a05c",
   "metadata": {},
   "outputs": [
    {
     "name": "stdout",
     "output_type": "stream",
     "text": [
      "rank                                         int64\n",
      "Youtuber                                    object\n",
      "subscribers                                  int64\n",
      "video views                                float64\n",
      "category                                    object\n",
      "Title                                       object\n",
      "uploads                                      int64\n",
      "Country                                     object\n",
      "Abbreviation                                object\n",
      "channel_type                                object\n",
      "video_views_rank                           float64\n",
      "country_rank                               float64\n",
      "channel_type_rank                          float64\n",
      "video_views_for_the_last_30_days           float64\n",
      "lowest_monthly_earnings                    float64\n",
      "highest_monthly_earnings                   float64\n",
      "lowest_yearly_earnings                     float64\n",
      "highest_yearly_earnings                    float64\n",
      "subscribers_for_last_30_days               float64\n",
      "created_year                               float64\n",
      "created_month                               object\n",
      "created_date                               float64\n",
      "Gross tertiary education enrollment (%)    float64\n",
      "Population                                 float64\n",
      "Unemployment rate                          float64\n",
      "Urban_population                           float64\n",
      "Latitude                                   float64\n",
      "Longitude                                  float64\n",
      "dtype: object\n",
      "     rank                    Youtuber  subscribers   video views  \\\n",
      "0       1                    T-Series    245000000  2.280000e+11   \n",
      "1       2              YouTube Movies    170000000  0.000000e+00   \n",
      "2       3                     MrBeast    166000000  2.836884e+10   \n",
      "3       4  Cocomelon - Nursery Rhymes    162000000  1.640000e+11   \n",
      "4       5                   SET India    159000000  1.480000e+11   \n",
      "..    ...                         ...          ...           ...   \n",
      "990   991               Natan por Aï¿     12300000  9.029610e+09   \n",
      "991   992    Free Fire India Official     12300000  1.674410e+09   \n",
      "992   993                       Panda     12300000  2.214684e+09   \n",
      "993   994                 RobTopGames     12300000  3.741235e+08   \n",
      "994   995                Make Joke Of     12300000  2.129774e+09   \n",
      "\n",
      "             category                       Title  uploads         Country  \\\n",
      "0               Music                    T-Series    20082           India   \n",
      "1    Film & Animation               youtubemovies        1   United States   \n",
      "2       Entertainment                     MrBeast      741   United States   \n",
      "3           Education  Cocomelon - Nursery Rhymes      966   United States   \n",
      "4               Shows                   SET India   116536           India   \n",
      "..                ...                         ...      ...             ...   \n",
      "990            Sports               Natan por Aï¿     1200          Brazil   \n",
      "991    People & Blogs    Free Fire India Official     1500           India   \n",
      "992               NaN                 HybridPanda     2452  United Kingdom   \n",
      "993            Gaming                 RobTopGames       39          Sweden   \n",
      "994            Comedy                Make Joke Of       62           India   \n",
      "\n",
      "    Abbreviation   channel_type  ...  subscribers_for_last_30_days  \\\n",
      "0             IN          Music  ...                     2000000.0   \n",
      "1             US          Games  ...                           NaN   \n",
      "2             US  Entertainment  ...                     8000000.0   \n",
      "3             US      Education  ...                     1000000.0   \n",
      "4             IN  Entertainment  ...                     1000000.0   \n",
      "..           ...            ...  ...                           ...   \n",
      "990           BR  Entertainment  ...                      700000.0   \n",
      "991           IN          Games  ...                      300000.0   \n",
      "992           GB          Games  ...                        1000.0   \n",
      "993           SE          Games  ...                      100000.0   \n",
      "994           IN         Comedy  ...                      100000.0   \n",
      "\n",
      "     created_year  created_month  created_date  \\\n",
      "0          2006.0            Mar          13.0   \n",
      "1          2006.0            Mar           5.0   \n",
      "2          2012.0            Feb          20.0   \n",
      "3          2006.0            Sep           1.0   \n",
      "4          2006.0            Sep          20.0   \n",
      "..            ...            ...           ...   \n",
      "990        2017.0            Feb          12.0   \n",
      "991        2018.0            Sep          14.0   \n",
      "992        2006.0            Sep          11.0   \n",
      "993        2012.0            May           9.0   \n",
      "994        2017.0            Aug           1.0   \n",
      "\n",
      "     Gross tertiary education enrollment (%)    Population  Unemployment rate  \\\n",
      "0                                       28.1  1.366418e+09               5.36   \n",
      "1                                       88.2  3.282395e+08              14.70   \n",
      "2                                       88.2  3.282395e+08              14.70   \n",
      "3                                       88.2  3.282395e+08              14.70   \n",
      "4                                       28.1  1.366418e+09               5.36   \n",
      "..                                       ...           ...                ...   \n",
      "990                                     51.3  2.125594e+08              12.08   \n",
      "991                                     28.1  1.366418e+09               5.36   \n",
      "992                                     60.0  6.683440e+07               3.85   \n",
      "993                                     67.0  1.028545e+07               6.48   \n",
      "994                                     28.1  1.366418e+09               5.36   \n",
      "\n",
      "     Urban_population   Latitude  Longitude  \n",
      "0         471031528.0  20.593684  78.962880  \n",
      "1         270663028.0  37.090240 -95.712891  \n",
      "2         270663028.0  37.090240 -95.712891  \n",
      "3         270663028.0  37.090240 -95.712891  \n",
      "4         471031528.0  20.593684  78.962880  \n",
      "..                ...        ...        ...  \n",
      "990       183241641.0 -14.235004 -51.925280  \n",
      "991       471031528.0  20.593684  78.962880  \n",
      "992        55908316.0  55.378051  -3.435973  \n",
      "993         9021165.0  60.128161  18.643501  \n",
      "994       471031528.0  20.593684  78.962880  \n",
      "\n",
      "[995 rows x 28 columns]\n"
     ]
    }
   ],
   "source": [
    "#Якщо є пропуски, замінить їх на NaN, потім тип даних на числовий. \n",
    "youtube_statistics = youtube_statistics.fillna(value = np.NaN)\n",
    "print(youtube_statistics.dtypes)\n",
    "print(youtube_statistics)"
   ]
  },
  {
   "cell_type": "markdown",
   "id": "15c65376-44a2-469f-874d-87006cc5615c",
   "metadata": {},
   "source": [
    "Завдання 5: Замініть комірки з пропущеними значенями на середні за стовпцем. І тип даних на float"
   ]
  },
  {
   "cell_type": "code",
   "execution_count": 7,
   "id": "d69162c9-16a6-4256-8408-621ddf5ff799",
   "metadata": {},
   "outputs": [
    {
     "name": "stdout",
     "output_type": "stream",
     "text": [
      "     rank                    Youtuber  subscribers   video views  \\\n",
      "0       1                    T-Series    245000000  2.280000e+11   \n",
      "1       2              YouTube Movies    170000000  0.000000e+00   \n",
      "2       3                     MrBeast    166000000  2.836884e+10   \n",
      "3       4  Cocomelon - Nursery Rhymes    162000000  1.640000e+11   \n",
      "4       5                   SET India    159000000  1.480000e+11   \n",
      "..    ...                         ...          ...           ...   \n",
      "990   991               Natan por Aï¿     12300000  9.029610e+09   \n",
      "991   992    Free Fire India Official     12300000  1.674410e+09   \n",
      "992   993                       Panda     12300000  2.214684e+09   \n",
      "993   994                 RobTopGames     12300000  3.741235e+08   \n",
      "994   995                Make Joke Of     12300000  2.129774e+09   \n",
      "\n",
      "             category                       Title  uploads         Country  \\\n",
      "0               Music                    T-Series    20082           India   \n",
      "1    Film & Animation               youtubemovies        1   United States   \n",
      "2       Entertainment                     MrBeast      741   United States   \n",
      "3           Education  Cocomelon - Nursery Rhymes      966   United States   \n",
      "4               Shows                   SET India   116536           India   \n",
      "..                ...                         ...      ...             ...   \n",
      "990            Sports               Natan por Aï¿     1200          Brazil   \n",
      "991    People & Blogs    Free Fire India Official     1500           India   \n",
      "992               NaN                 HybridPanda     2452  United Kingdom   \n",
      "993            Gaming                 RobTopGames       39          Sweden   \n",
      "994            Comedy                Make Joke Of       62           India   \n",
      "\n",
      "    Abbreviation   channel_type  ...  subscribers_for_last_30_days  \\\n",
      "0             IN          Music  ...                  2.000000e+06   \n",
      "1             US          Games  ...                  3.490791e+05   \n",
      "2             US  Entertainment  ...                  8.000000e+06   \n",
      "3             US      Education  ...                  1.000000e+06   \n",
      "4             IN  Entertainment  ...                  1.000000e+06   \n",
      "..           ...            ...  ...                           ...   \n",
      "990           BR  Entertainment  ...                  7.000000e+05   \n",
      "991           IN          Games  ...                  3.000000e+05   \n",
      "992           GB          Games  ...                  1.000000e+03   \n",
      "993           SE          Games  ...                  1.000000e+05   \n",
      "994           IN         Comedy  ...                  1.000000e+05   \n",
      "\n",
      "     created_year  created_month  created_date  \\\n",
      "0          2006.0            Mar          13.0   \n",
      "1          2006.0            Mar           5.0   \n",
      "2          2012.0            Feb          20.0   \n",
      "3          2006.0            Sep           1.0   \n",
      "4          2006.0            Sep          20.0   \n",
      "..            ...            ...           ...   \n",
      "990        2017.0            Feb          12.0   \n",
      "991        2018.0            Sep          14.0   \n",
      "992        2006.0            Sep          11.0   \n",
      "993        2012.0            May           9.0   \n",
      "994        2017.0            Aug           1.0   \n",
      "\n",
      "     Gross tertiary education enrollment (%)    Population  Unemployment rate  \\\n",
      "0                                       28.1  1.366418e+09               5.36   \n",
      "1                                       88.2  3.282395e+08              14.70   \n",
      "2                                       88.2  3.282395e+08              14.70   \n",
      "3                                       88.2  3.282395e+08              14.70   \n",
      "4                                       28.1  1.366418e+09               5.36   \n",
      "..                                       ...           ...                ...   \n",
      "990                                     51.3  2.125594e+08              12.08   \n",
      "991                                     28.1  1.366418e+09               5.36   \n",
      "992                                     60.0  6.683440e+07               3.85   \n",
      "993                                     67.0  1.028545e+07               6.48   \n",
      "994                                     28.1  1.366418e+09               5.36   \n",
      "\n",
      "     Urban_population   Latitude  Longitude  \n",
      "0         471031528.0  20.593684  78.962880  \n",
      "1         270663028.0  37.090240 -95.712891  \n",
      "2         270663028.0  37.090240 -95.712891  \n",
      "3         270663028.0  37.090240 -95.712891  \n",
      "4         471031528.0  20.593684  78.962880  \n",
      "..                ...        ...        ...  \n",
      "990       183241641.0 -14.235004 -51.925280  \n",
      "991       471031528.0  20.593684  78.962880  \n",
      "992        55908316.0  55.378051  -3.435973  \n",
      "993         9021165.0  60.128161  18.643501  \n",
      "994       471031528.0  20.593684  78.962880  \n",
      "\n",
      "[995 rows x 28 columns]\n",
      "rank                                         int64\n",
      "Youtuber                                    object\n",
      "subscribers                                  int64\n",
      "video views                                float64\n",
      "category                                    object\n",
      "Title                                       object\n",
      "uploads                                      int64\n",
      "Country                                     object\n",
      "Abbreviation                                object\n",
      "channel_type                                object\n",
      "video_views_rank                           float64\n",
      "country_rank                               float64\n",
      "channel_type_rank                          float64\n",
      "video_views_for_the_last_30_days           float64\n",
      "lowest_monthly_earnings                    float64\n",
      "highest_monthly_earnings                   float64\n",
      "lowest_yearly_earnings                     float64\n",
      "highest_yearly_earnings                    float64\n",
      "subscribers_for_last_30_days               float64\n",
      "created_year                               float64\n",
      "created_month                               object\n",
      "created_date                               float64\n",
      "Gross tertiary education enrollment (%)    float64\n",
      "Population                                 float64\n",
      "Unemployment rate                          float64\n",
      "Urban_population                           float64\n",
      "Latitude                                   float64\n",
      "Longitude                                  float64\n",
      "dtype: object\n"
     ]
    }
   ],
   "source": [
    "youtube_statistics = youtube_statistics.fillna({'video_views_rank': youtube_statistics['video_views_rank'].mean(), 'country_rank': youtube_statistics['country_rank'].mean(),\n",
    "                                               'channel_type_rank': youtube_statistics['channel_type_rank'].mean(), 'video_views_for_the_last_30_days': youtube_statistics['video_views_for_the_last_30_days'].mean(),'subscribers_for_last_30_days': youtube_statistics['subscribers_for_last_30_days'].mean(),\n",
    "                                               'created_year': youtube_statistics['created_year'].mean(),'created_date': youtube_statistics['created_date'].mean(),\n",
    "                                               'Gross tertiary education enrollment (%)': youtube_statistics['Gross tertiary education enrollment (%)'].mean(), 'Population': youtube_statistics['Population'].mean(),'Unemployment rate': youtube_statistics['Unemployment rate'].mean(),\n",
    "                                               'Urban_population': youtube_statistics['Urban_population'].mean(), 'Latitude': youtube_statistics['Latitude'].mean(),'Longitude': youtube_statistics['Longitude'].mean()})\n",
    "print(youtube_statistics)\n",
    "print(youtube_statistics.dtypes)"
   ]
  },
  {
   "cell_type": "markdown",
   "id": "e6d69e2e-73a8-4c2a-a0c6-9e6574608cb5",
   "metadata": {},
   "source": [
    "Завдання 6: Ще раз перевірте кількість пропусків. "
   ]
  },
  {
   "cell_type": "code",
   "execution_count": 8,
   "id": "4ca3a46d-b8f7-4a39-ab61-091eccd6de07",
   "metadata": {},
   "outputs": [
    {
     "name": "stdout",
     "output_type": "stream",
     "text": [
      "Сума пропусків в кожній колонці: \n",
      "rank                                         0\n",
      "Youtuber                                     0\n",
      "subscribers                                  0\n",
      "video views                                  0\n",
      "category                                    46\n",
      "Title                                        0\n",
      "uploads                                      0\n",
      "Country                                    122\n",
      "Abbreviation                               122\n",
      "channel_type                                30\n",
      "video_views_rank                             0\n",
      "country_rank                                 0\n",
      "channel_type_rank                            0\n",
      "video_views_for_the_last_30_days             0\n",
      "lowest_monthly_earnings                      0\n",
      "highest_monthly_earnings                     0\n",
      "lowest_yearly_earnings                       0\n",
      "highest_yearly_earnings                      0\n",
      "subscribers_for_last_30_days                 0\n",
      "created_year                                 0\n",
      "created_month                                5\n",
      "created_date                                 0\n",
      "Gross tertiary education enrollment (%)      0\n",
      "Population                                   0\n",
      "Unemployment rate                            0\n",
      "Urban_population                             0\n",
      "Latitude                                     0\n",
      "Longitude                                    0\n",
      "dtype: int64\n"
     ]
    }
   ],
   "source": [
    "missing_sum = youtube_statistics.isnull().sum()\n",
    "print(\"Сума пропусків в кожній колонці: \")\n",
    "print(missing_sum)"
   ]
  },
  {
   "cell_type": "markdown",
   "id": "8837c372-06aa-4855-aad8-43330536e6f1",
   "metadata": {},
   "source": [
    "Завдання 7: Перевірте, скільки унікальних країн представлено у колонці \"Country\" "
   ]
  },
  {
   "cell_type": "code",
   "execution_count": 9,
   "id": "3c93cb11-cf72-4401-91be-da6e535e5484",
   "metadata": {},
   "outputs": [
    {
     "name": "stdout",
     "output_type": "stream",
     "text": [
      "Кількість унікальних країн представлених у колонці Country:  49\n"
     ]
    }
   ],
   "source": [
    "unique = youtube_statistics['Country'].nunique()\n",
    "print(\"Кількість унікальних країн представлених у колонці Country: \", unique)"
   ]
  },
  {
   "cell_type": "markdown",
   "id": "41b4fa49-6edb-4577-b997-50d2ca057ef6",
   "metadata": {},
   "source": [
    "Завдання 8: Побудуйте діаграму розподілу переглядів (використовуйте kind='hist') "
   ]
  },
  {
   "cell_type": "code",
   "execution_count": 10,
   "id": "cecbfd28-0438-4bd3-b877-e5dfab0a94e0",
   "metadata": {},
   "outputs": [
    {
     "data": {
      "image/png": "[encoded data removed]",
      "text/plain": [
       "<Figure size 640x480 with 1 Axes>"
      ]
     },
     "metadata": {},
     "output_type": "display_data"
    }
   ],
   "source": [
    "youtube_statistics['video views'].plot(kind='hist', label = 'перегляди', legend = True)\n",
    "plt.title('Розподіл переглядів')\n",
    "plt.ylabel('Число відео')\n",
    "plt.xlabel('Кількість переглядів')\n",
    "plt.grid(True)\n",
    "plt.show()"
   ]
  },
  {
   "cell_type": "markdown",
   "id": "b49666cd-ba7b-48ac-a398-1400b35d8e02",
   "metadata": {},
   "source": [
    "Завдання 9: Визначте максимальну, мінімальну, середню кількість переглядів (використовуйте методи max, min, mean)"
   ]
  },
  {
   "cell_type": "code",
   "execution_count": 11,
   "id": "f5488d0e-ee34-472a-9539-19375cc5d7f6",
   "metadata": {},
   "outputs": [
    {
     "name": "stdout",
     "output_type": "stream",
     "text": [
      "Mаксимальнa кількість переглядів:  228000000000.0\n",
      "Mінімальнa кількість переглядів:  0.0\n",
      "Cередня кількість переглядів:  11039537052.03819\n"
     ]
    }
   ],
   "source": [
    "max_view = youtube_statistics['video views'].max()\n",
    "min_view = youtube_statistics['video views'].min()\n",
    "average_view = youtube_statistics['video views'].mean()\n",
    "\n",
    "print(\"Mаксимальнa кількість переглядів: \", max_view)\n",
    "print(\"Mінімальнa кількість переглядів: \", min_view)\n",
    "print(\"Cередня кількість переглядів: \", average_view)"
   ]
  },
  {
   "cell_type": "markdown",
   "id": "2c97844b-c595-42b4-8bec-f4378d148361",
   "metadata": {},
   "source": [
    "Завдання 10: Знайдіть країну, де найбільше відео було завантажено на YouTube "
   ]
  },
  {
   "cell_type": "code",
   "execution_count": 12,
   "id": "2c2af971-8cb7-4db0-a692-fc7b23c32816",
   "metadata": {},
   "outputs": [
    {
     "name": "stdout",
     "output_type": "stream",
     "text": [
      "Kраїнa, де найбільше відео було завантажено на YouTube -  India\n"
     ]
    }
   ],
   "source": [
    "max_uploads_country = (youtube_statistics.groupby('Country')['uploads'].sum()).idxmax()\n",
    "\n",
    "print(\"Kраїнa, де найбільше відео було завантажено на YouTube - \", max_uploads_country)"
   ]
  },
  {
   "cell_type": "markdown",
   "id": "4dbe3200-2286-477f-a63e-c73a44f1ba30",
   "metadata": {},
   "source": [
    "Завдання 11: Знайдіть відео (виведіть його назву) з найбільшою та найменшою кількістю завантажень uploads. "
   ]
  },
  {
   "cell_type": "code",
   "execution_count": 13,
   "id": "63c7e371-402a-4f39-bb06-fcdad8a9ab80",
   "metadata": {},
   "outputs": [
    {
     "name": "stdout",
     "output_type": "stream",
     "text": [
      "Відео з найменшою кількістю завантажень -  Music\n",
      "Відео з найбільшою кількістю завантажень -  ABP NEWS\n"
     ]
    }
   ],
   "source": [
    "min_uploads_idx = youtube_statistics['uploads'].idxmin()\n",
    "max_uploads_idx = youtube_statistics['uploads'].idxmax()\n",
    "title_min = youtube_statistics.loc[min_uploads_idx,'Title']\n",
    "title_max = youtube_statistics.loc[max_uploads_idx,'Title']\n",
    "\n",
    "print(\"Відео з найменшою кількістю завантажень - \", title_min)\n",
    "print(\"Відео з найбільшою кількістю завантажень - \", title_max)"
   ]
  },
  {
   "cell_type": "markdown",
   "id": "ecdba550-3152-436f-acb2-6c42fcddb38e",
   "metadata": {},
   "source": [
    "На практичній роботі я вдосконалила знання із мови програмування - Python, а саме попрактикувалася зчитувати дані з CSV файлу та працювати із ними (знаходити розмір датасету, знаходити максимальні та мінімальні значення по стовбцях, заповнювати пропуски та перетворювати тип значень). Також навчилася будувати коректні гістограми."
   ]
  }
 ],
 "metadata": {
  "kernelspec": {
   "display_name": "Python 3 (ipykernel)",
   "language": "python",
   "name": "python3"
  },
  "language_info": {
   "codemirror_mode": {
    "name": "ipython",
    "version": 3
   },
   "file_extension": ".py",
   "mimetype": "text/x-python",
   "name": "python",
   "nbconvert_exporter": "python",
   "pygments_lexer": "ipython3",
   "version": "3.11.3"
  }
 },
 "nbformat": 4,
 "nbformat_minor": 5
}
