{
 "cells": [
  {
   "cell_type": "markdown",
   "id": "fbf24fd0-6a8a-4551-ba69-cc84c172dbf6",
   "metadata": {},
   "source": [
    "## ПРАКТИЧНА РОБОТА 3.2"
   ]
  },
  {
   "cell_type": "markdown",
   "id": "8c166f56-256e-48d5-a399-33c7e6339505",
   "metadata": {},
   "source": [
    "### Варіант 15"
   ]
  },
  {
   "cell_type": "markdown",
   "id": "a4ea6d49-eebe-4040-a538-a24dcc4759a8",
   "metadata": {},
   "source": [
    "Завдання 1: Скачайте датасет  Amazon Top 50 Bestselling Books 2009 – 2019, що знаходиться  за посиланням.Прочитайте csv файл (метод read_csv)."
   ]
  },
  {
   "cell_type": "code",
   "execution_count": 1,
   "id": "27c43376-4897-4f30-9c9e-90d330b271cd",
   "metadata": {},
   "outputs": [],
   "source": [
    "import pandas as pd\n",
    "import numpy as np\n",
    "import matplotlib.pyplot as plt"
   ]
  },
  {
   "cell_type": "code",
   "execution_count": 2,
   "id": "92a4ae1f-b6ee-4aea-ad61-15d418536edc",
   "metadata": {},
   "outputs": [
    {
     "name": "stdout",
     "output_type": "stream",
     "text": [
      "                                                  Name  \\\n",
      "0                        10-Day Green Smoothie Cleanse   \n",
      "1                                    11/22/63: A Novel   \n",
      "2              12 Rules for Life: An Antidote to Chaos   \n",
      "3                               1984 (Signet Classics)   \n",
      "4    5,000 Awesome Facts (About Everything!) (Natio...   \n",
      "..                                                 ...   \n",
      "545       Wrecking Ball (Diary of a Wimpy Kid Book 14)   \n",
      "546  You Are a Badass: How to Stop Doubting Your Gr...   \n",
      "547  You Are a Badass: How to Stop Doubting Your Gr...   \n",
      "548  You Are a Badass: How to Stop Doubting Your Gr...   \n",
      "549  You Are a Badass: How to Stop Doubting Your Gr...   \n",
      "\n",
      "                       Author  User Rating  Reviews  Price  Year        Genre  \n",
      "0                    JJ Smith          4.7    17350      8  2016  Non Fiction  \n",
      "1                Stephen King          4.6     2052     22  2011      Fiction  \n",
      "2          Jordan B. Peterson          4.7    18979     15  2018  Non Fiction  \n",
      "3               George Orwell          4.7    21424      6  2017      Fiction  \n",
      "4    National Geographic Kids          4.8     7665     12  2019  Non Fiction  \n",
      "..                        ...          ...      ...    ...   ...          ...  \n",
      "545               Jeff Kinney          4.9     9413      8  2019      Fiction  \n",
      "546               Jen Sincero          4.7    14331      8  2016  Non Fiction  \n",
      "547               Jen Sincero          4.7    14331      8  2017  Non Fiction  \n",
      "548               Jen Sincero          4.7    14331      8  2018  Non Fiction  \n",
      "549               Jen Sincero          4.7    14331      8  2019  Non Fiction  \n",
      "\n",
      "[550 rows x 7 columns]\n"
     ]
    }
   ],
   "source": [
    "books = pd.read_csv(\"bestsellers with categories.csv\")\n",
    "\n",
    "print(books)"
   ]
  },
  {
   "cell_type": "markdown",
   "id": "8c02bd3a-c5e4-4d56-a8ae-aa3658fcf2fd",
   "metadata": {},
   "source": [
    "Завдання 2: Виведіть перші 10 рядків (метод head)"
   ]
  },
  {
   "cell_type": "code",
   "execution_count": 3,
   "id": "df678971-31c8-4743-930d-acadeb54805d",
   "metadata": {},
   "outputs": [
    {
     "name": "stdout",
     "output_type": "stream",
     "text": [
      "                                                Name  \\\n",
      "0                      10-Day Green Smoothie Cleanse   \n",
      "1                                  11/22/63: A Novel   \n",
      "2            12 Rules for Life: An Antidote to Chaos   \n",
      "3                             1984 (Signet Classics)   \n",
      "4  5,000 Awesome Facts (About Everything!) (Natio...   \n",
      "5      A Dance with Dragons (A Song of Ice and Fire)   \n",
      "6  A Game of Thrones / A Clash of Kings / A Storm...   \n",
      "7                     A Gentleman in Moscow: A Novel   \n",
      "8      A Higher Loyalty: Truth, Lies, and Leadership   \n",
      "9                          A Man Called Ove: A Novel   \n",
      "\n",
      "                     Author  User Rating  Reviews  Price  Year        Genre  \n",
      "0                  JJ Smith          4.7    17350      8  2016  Non Fiction  \n",
      "1              Stephen King          4.6     2052     22  2011      Fiction  \n",
      "2        Jordan B. Peterson          4.7    18979     15  2018  Non Fiction  \n",
      "3             George Orwell          4.7    21424      6  2017      Fiction  \n",
      "4  National Geographic Kids          4.8     7665     12  2019  Non Fiction  \n",
      "5       George R. R. Martin          4.4    12643     11  2011      Fiction  \n",
      "6       George R. R. Martin          4.7    19735     30  2014      Fiction  \n",
      "7               Amor Towles          4.7    19699     15  2017      Fiction  \n",
      "8               James Comey          4.7     5983      3  2018  Non Fiction  \n",
      "9           Fredrik Backman          4.6    23848      8  2016      Fiction  \n"
     ]
    }
   ],
   "source": [
    "books10 = books.head(10) \n",
    "\n",
    "print(books10) "
   ]
  },
  {
   "cell_type": "markdown",
   "id": "45072108-7cae-4a1c-a90d-9b90e89331fb",
   "metadata": {},
   "source": [
    "Завдання 3: Виведіть розміри датасету (метод shape) "
   ]
  },
  {
   "cell_type": "code",
   "execution_count": 4,
   "id": "61d3a674-a025-44a5-811b-4c162da9f2ee",
   "metadata": {},
   "outputs": [
    {
     "name": "stdout",
     "output_type": "stream",
     "text": [
      "Кількість рядків: 550, Кількість стобчиків: 7\n"
     ]
    }
   ],
   "source": [
    "num_rows, num_columns = books.shape\n",
    "\n",
    "print(f\"Кількість рядків: {num_rows}, Кількість стобчиків: {num_columns}\")"
   ]
  },
  {
   "cell_type": "markdown",
   "id": "97e2d1d2-6af3-45f1-b2cb-1f7238c7adb2",
   "metadata": {},
   "source": [
    "Питання: Про скільки книг зберігає дані датасет? Відповідь: 550 книг"
   ]
  },
  {
   "cell_type": "markdown",
   "id": "545f3989-7660-405b-8fb6-dac6781b5df3",
   "metadata": {},
   "source": [
    "Завдання 4: Змініть назви всіх колонок: назва з маленької букви, без пробілів через підкреслення. "
   ]
  },
  {
   "cell_type": "code",
   "execution_count": 5,
   "id": "834f770a-bda9-4d2b-8a08-3788abbf5120",
   "metadata": {},
   "outputs": [
    {
     "name": "stdout",
     "output_type": "stream",
     "text": [
      "Перейменовані назви колонок\n",
      "                                                  name  \\\n",
      "0                        10-Day Green Smoothie Cleanse   \n",
      "1                                    11/22/63: A Novel   \n",
      "2              12 Rules for Life: An Antidote to Chaos   \n",
      "3                               1984 (Signet Classics)   \n",
      "4    5,000 Awesome Facts (About Everything!) (Natio...   \n",
      "..                                                 ...   \n",
      "545       Wrecking Ball (Diary of a Wimpy Kid Book 14)   \n",
      "546  You Are a Badass: How to Stop Doubting Your Gr...   \n",
      "547  You Are a Badass: How to Stop Doubting Your Gr...   \n",
      "548  You Are a Badass: How to Stop Doubting Your Gr...   \n",
      "549  You Are a Badass: How to Stop Doubting Your Gr...   \n",
      "\n",
      "                       author  user_rating  reviews  price  year        genre  \n",
      "0                    JJ Smith          4.7    17350      8  2016  Non Fiction  \n",
      "1                Stephen King          4.6     2052     22  2011      Fiction  \n",
      "2          Jordan B. Peterson          4.7    18979     15  2018  Non Fiction  \n",
      "3               George Orwell          4.7    21424      6  2017      Fiction  \n",
      "4    National Geographic Kids          4.8     7665     12  2019  Non Fiction  \n",
      "..                        ...          ...      ...    ...   ...          ...  \n",
      "545               Jeff Kinney          4.9     9413      8  2019      Fiction  \n",
      "546               Jen Sincero          4.7    14331      8  2016  Non Fiction  \n",
      "547               Jen Sincero          4.7    14331      8  2017  Non Fiction  \n",
      "548               Jen Sincero          4.7    14331      8  2018  Non Fiction  \n",
      "549               Jen Sincero          4.7    14331      8  2019  Non Fiction  \n",
      "\n",
      "[550 rows x 7 columns]\n"
     ]
    }
   ],
   "source": [
    "books = books.rename(columns = {\n",
    "    \"Name\": \"name\",\n",
    "    \"Author\": \"author\",\n",
    "    \"User Rating\": \"user_rating\",\n",
    "    \"Reviews\": \"reviews\",\n",
    "    \"Price\": \"price\",\n",
    "    \"Year\": \"year\",\n",
    "    \"Genre\": \"genre\"})\n",
    "\n",
    "print(\"Перейменовані назви колонок\")\n",
    "print(books)"
   ]
  },
  {
   "cell_type": "markdown",
   "id": "dc517718-a3fb-4934-9677-9fce1b3fa056",
   "metadata": {},
   "source": [
    "Завдання 5: Вивести кількість пропусків у кожному стовпчику. "
   ]
  },
  {
   "cell_type": "code",
   "execution_count": 6,
   "id": "eee2a546-3de6-4f26-bb90-366227cfa1ea",
   "metadata": {},
   "outputs": [
    {
     "name": "stdout",
     "output_type": "stream",
     "text": [
      "Сума пропусків в кожній колонці: \n",
      "name           0\n",
      "author         0\n",
      "user_rating    0\n",
      "reviews        0\n",
      "price          0\n",
      "year           0\n",
      "genre          0\n",
      "dtype: int64\n"
     ]
    }
   ],
   "source": [
    "missing_sum = books.isnull().sum()\n",
    "\n",
    "print(\"Сума пропусків в кожній колонці: \")\n",
    "print(missing_sum)"
   ]
  },
  {
   "cell_type": "markdown",
   "id": "fe55a649-3ba0-42b0-a67c-711b1b78b5b3",
   "metadata": {},
   "source": [
    "\n",
    "Питання : Чи є в якихось змінних пропуски?Відповідь: Ні "
   ]
  },
  {
   "cell_type": "markdown",
   "id": "7167a3c1-b894-42b5-aa4e-eecb633a1c09",
   "metadata": {},
   "source": [
    "Завдання 6: За допомогою методу unique  перевірте. Які є унікальні жанри в стовпці genre  "
   ]
  },
  {
   "cell_type": "code",
   "execution_count": 7,
   "id": "a30a6589-1f67-4ae8-ba34-573cfbbd212f",
   "metadata": {},
   "outputs": [
    {
     "name": "stdout",
     "output_type": "stream",
     "text": [
      "Унікальні жанри в стовпці genre:  ['Non Fiction' 'Fiction']\n"
     ]
    }
   ],
   "source": [
    "unique = books['genre'].unique()\n",
    "print(\"Унікальні жанри в стовпці genre: \", unique)"
   ]
  },
  {
   "cell_type": "markdown",
   "id": "3178ebf3-0d7f-4786-912e-3bd89e39b86b",
   "metadata": {},
   "source": [
    "Питання : Які є унікальні жанри? Відповідь: 'Non Fiction' 'Fiction'"
   ]
  },
  {
   "cell_type": "markdown",
   "id": "e2ea3445-2c8e-4142-805a-07a5bf9993be",
   "metadata": {},
   "source": [
    "Завдання 7: Визначте максимальну, мінімальну, медіанну ціну за допомогою методів  max, min, mean, median "
   ]
  },
  {
   "cell_type": "code",
   "execution_count": 8,
   "id": "08d34e1f-6394-4d5a-8999-7f720b6d084c",
   "metadata": {},
   "outputs": [
    {
     "name": "stdout",
     "output_type": "stream",
     "text": [
      "Mаксимальнa ціни:  105\n",
      "Mінімальнa ціни:  0\n",
      "Cередня ціна:  13.1\n",
      "Медіана ціни:  13.1\n"
     ]
    }
   ],
   "source": [
    "max_price = books['price'].max()\n",
    "min_price = books['price'].min()\n",
    "mean_price = books['price'].mean()\n",
    "median_price = books['price'].median()\n",
    "\n",
    "print(\"Mаксимальнa ціни: \", max_price)\n",
    "print(\"Mінімальнa ціни: \", min_price)\n",
    "print(\"Cередня ціна: \", mean_price)\n",
    "print(\"Медіана ціни: \", mean_price)"
   ]
  },
  {
   "cell_type": "markdown",
   "id": "d8926ed5-dd1c-48eb-8700-516a99005171",
   "metadata": {},
   "source": [
    "Питання:Максимальна ціна? Відповідь: 105\n",
    "Питання: Мінімальна ціна? Відповідь: 0\n",
    "Питання: Середня ціна? Відповідь: 13.1\n",
    "Питання: Медіана ціни? Відповідь: 13.1"
   ]
  },
  {
   "cell_type": "markdown",
   "id": "88fc1017-7464-4d31-a0b7-3f6e169b430a",
   "metadata": {},
   "source": [
    "Завдання 8: Виконайте наступні завдання з пошуку і сортування даних "
   ]
  },
  {
   "cell_type": "code",
   "execution_count": 9,
   "id": "a549d5aa-2f01-424c-87b6-f6f55331d81b",
   "metadata": {},
   "outputs": [
    {
     "name": "stdout",
     "output_type": "stream",
     "text": [
      "4.9\n"
     ]
    }
   ],
   "source": [
    "#Питання: Який рейтинг у датасеті найвищий?  \n",
    "sorted_books = books.sort_values(by = ['user_rating'], ascending = False)\n",
    "max_rating = sorted_books['user_rating'].iloc[0]\n",
    "\n",
    "print(max_rating)"
   ]
  },
  {
   "cell_type": "code",
   "execution_count": 10,
   "id": "59119dd4-9d0a-4b30-98a0-55e0786e1f04",
   "metadata": {},
   "outputs": [
    {
     "name": "stdout",
     "output_type": "stream",
     "text": [
      "Кількість книг що мають найбільший рейтинг:  52\n"
     ]
    }
   ],
   "source": [
    "#Питання: Скільки книг мають такий рейтинг?  \n",
    "count_max_rating = (sorted_books['user_rating'] == max_rating).sum()\n",
    "\n",
    "print(\"Кількість книг що мають найбільший рейтинг: \", count_max_rating)"
   ]
  },
  {
   "cell_type": "code",
   "execution_count": 11,
   "id": "3bedfaa8-52df-4dce-b589-27f6350f037d",
   "metadata": {},
   "outputs": [
    {
     "name": "stdout",
     "output_type": "stream",
     "text": [
      "Книга з найбільшою кількістю відгуків: Where the Crawdads Sing\n"
     ]
    }
   ],
   "source": [
    "#Питання: Яка книга має найбільше відгуків? \n",
    "max_reviews = sorted_books['reviews'].idxmax()\n",
    "name_max = books.loc[max_reviews,'name']\n",
    "\n",
    "print(\"Книга з найбільшою кількістю відгуків:\", name_max)"
   ]
  },
  {
   "cell_type": "code",
   "execution_count": 12,
   "id": "28124378-ac2c-4e70-8b29-02c215ee9c14",
   "metadata": {},
   "outputs": [
    {
     "name": "stdout",
     "output_type": "stream",
     "text": [
      "Найдорожча книга за 2010 рік:  Publication Manual of the American Psychological Association, 6th Edition\n"
     ]
    }
   ],
   "source": [
    "#Питання: З тих книг, що потрапили до Топ-50 у 2010 році, яка книга найдорожча ?\n",
    "max_price_2010 = books[(books['year'] == 2010)]['price'].idxmax()\n",
    "name_max = books.loc[max_price_2010,'name']\n",
    "\n",
    "print(\"Найдорожча книга за 2010 рік: \", name_max)"
   ]
  },
  {
   "cell_type": "code",
   "execution_count": 13,
   "id": "ada3c087-0abb-49d7-bec4-0252049010f2",
   "metadata": {},
   "outputs": [
    {
     "name": "stdout",
     "output_type": "stream",
     "text": [
      "Кількість книг жанру Fiction потрапили до Топ-50 у 2012 році:  21\n"
     ]
    }
   ],
   "source": [
    "#Скільки книг жанру Fiction потрапили до Топ-50 у 2012 році \n",
    "books_fiction_2012 = (books['year'] == 2012) & ( books['genre'] == 'Fiction')\n",
    "count_books = books_fiction_2012.sum()\n",
    "\n",
    "print(\"Кількість книг жанру Fiction потрапили до Топ-50 у 2012 році: \", count_books)"
   ]
  },
  {
   "cell_type": "code",
   "execution_count": 14,
   "id": "e9858c7f-d9f6-45d8-89dd-ee988555b859",
   "metadata": {},
   "outputs": [
    {
     "name": "stdout",
     "output_type": "stream",
     "text": [
      "Кількість книг з рейтингом 4.9 потрапило до рейтингу у 2010 та 2011 роках:  1\n"
     ]
    }
   ],
   "source": [
    "#Питання : Скільки книг з рейтингом 4.9 потрапило до рейтингу у 2010 та 2011 роках (використовуйте | або метод isin)?  \n",
    "book_rate_10_11 = (books['user_rating'] == 4.9) & ((books['year'] == 2010) | (books['year'] == 2011))\n",
    "count_books_rate = book_rate_10_11.sum()\n",
    "print(\"Кількість книг з рейтингом 4.9 потрапило до рейтингу у 2010 та 2011 роках: \", count_books_rate)"
   ]
  },
  {
   "cell_type": "markdown",
   "id": "a7589801-a3be-4207-904c-e5ccdd670e77",
   "metadata": {},
   "source": [
    "Вивести максимальну і  мінімальну ціну для жанру Fiction I NonFiction (за допомогою методів  groupby та agg, для підрахунку мінімальних та максимальних значень використовуйте max та min). Використовуйте тількі потрібні вам стовпці. "
   ]
  },
  {
   "cell_type": "code",
   "execution_count": 15,
   "id": "c7ade196-904f-41d0-99c4-43096ffadfed",
   "metadata": {},
   "outputs": [
    {
     "name": "stdout",
     "output_type": "stream",
     "text": [
      "Максимальна і мінімальна ціни для жанру Fiction та NonFiction(за допомогою методів  groupby та agg):\n",
      "             max  min\n",
      "genre                \n",
      "Fiction       82    0\n",
      "Non Fiction  105    0\n"
     ]
    }
   ],
   "source": [
    "genre_prices = books.groupby('genre')['price'].agg(['max', 'min'])\n",
    "print(\"Максимальна і мінімальна ціни для жанру Fiction та NonFiction(за допомогою методів  groupby та agg):\")\n",
    "print(genre_prices)"
   ]
  },
  {
   "cell_type": "markdown",
   "id": "c9fd09ee-37c4-4939-9641-a4f3912e73e8",
   "metadata": {},
   "source": [
    "На практичній роботі я вдосконалила знання із мови програмування - Python, а саме попрактикувалася зчитувати дані з CSV файлу та працювати із ними (знаходити розмір датасету, знаходити максимальні та мінімальні значення по стовбцях, заповнювати пропуски та групувати дані по певним критеріям). "
   ]
  }
 ],
 "metadata": {
  "kernelspec": {
   "display_name": "Python 3 (ipykernel)",
   "language": "python",
   "name": "python3"
  },
  "language_info": {
   "codemirror_mode": {
    "name": "ipython",
    "version": 3
   },
   "file_extension": ".py",
   "mimetype": "text/x-python",
   "name": "python",
   "nbconvert_exporter": "python",
   "pygments_lexer": "ipython3",
   "version": "3.11.3"
  }
 },
 "nbformat": 4,
 "nbformat_minor": 5
}
